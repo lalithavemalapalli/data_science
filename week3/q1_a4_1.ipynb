{
  "metadata": {
    "kernelspec": {
      "name": "python",
      "display_name": "Python (Pyodide)",
      "language": "python"
    },
    "language_info": {
      "name": ""
    }
  },
  "nbformat_minor": 4,
  "nbformat": 4,
  "cells": [
    {
      "cell_type": "markdown",
      "source": "### **Assignment: NumPy Basics - Arrays and Vectorized Computation**\n### **Total Points: 100**",
      "metadata": {}
    },
    {
      "cell_type": "markdown",
      "source": "### **Assignment 1: Introduction to NumPy Arrays** (20 points)\n**Objective**: Understand how to create and manipulate NumPy arrays.",
      "metadata": {}
    },
    {
      "cell_type": "markdown",
      "source": "1. **Task**: \n   - Create a NumPy array from a list of numbers `[1, 2, 3, 4, 5]` and perform the following operations:",
      "metadata": {}
    },
    {
      "cell_type": "markdown",
      "source": "to create a numpy array we need to first import the nympy library in python as\n     import numpy as np",
      "metadata": {}
    },
    {
      "cell_type": "code",
      "source": "import numpy as np",
      "metadata": {
        "trusted": true
      },
      "outputs": [],
      "execution_count": null
    },
    {
      "cell_type": "markdown",
      "source": "Now in python numpy we use arange() function to create the numpy arrays.",
      "metadata": {}
    },
    {
      "cell_type": "code",
      "source": "data=np.arange(1,6)",
      "metadata": {
        "trusted": true
      },
      "outputs": [],
      "execution_count": null
    },
    {
      "cell_type": "markdown",
      "source": "In the above program the arange function() aranges the numbers from 1 to 5 the 6 won't get print because the second value given as  the parameter in the arange function will not get printed .",
      "metadata": {}
    },
    {
      "cell_type": "markdown",
      "source": "- Multiply the entire array by 2.",
      "metadata": {}
    },
    {
      "cell_type": "code",
      "source": "data*2",
      "metadata": {
        "trusted": true
      },
      "outputs": [],
      "execution_count": null
    },
    {
      "cell_type": "markdown",
      "source": "- Subtract 3 from each element in the array.",
      "metadata": {}
    },
    {
      "cell_type": "code",
      "source": "data-3",
      "metadata": {
        "trusted": true
      },
      "outputs": [],
      "execution_count": null
    },
    {
      "cell_type": "markdown",
      "source": "- Find the square of each element in the array.\n  ans: to find the square of the array in pandas numpy we use the built-in function called np.square() .",
      "metadata": {}
    },
    {
      "cell_type": "code",
      "source": "squared_array=np.square(data)\nprint(\"the squared array is:\",squared_array)",
      "metadata": {
        "trusted": true
      },
      "outputs": [],
      "execution_count": null
    },
    {
      "cell_type": "markdown",
      "source": "The output of the above program is it will print the squares of all the numbers in the numpy array.",
      "metadata": {}
    },
    {
      "cell_type": "markdown",
      "source": "- Calculate the mean and sum of the array elements.",
      "metadata": {}
    },
    {
      "cell_type": "markdown",
      "source": "To find the mean value in python numpy we use the built-in function called np.mean()and to find the sum of the numpy array we use another built in function called np.sum()",
      "metadata": {}
    },
    {
      "cell_type": "code",
      "source": "mean_value=np.mean(data)\nsum_of_array=np.sum(data)\nprint(\"the mean value of the numpy array is:\",mean_value)\nprint(\"the sum of the numpy array is:\",sum_of_array)",
      "metadata": {
        "trusted": true
      },
      "outputs": [],
      "execution_count": null
    },
    {
      "cell_type": "markdown",
      "source": "2. **Bonus**: Create a 2D array (matrix) of shape (3, 3) using `np.arange()` and reshape it. Calculate the row-wise and column-wise sums of the array.",
      "metadata": {}
    },
    {
      "cell_type": "code",
      "source": "data=np.arange(1,10).reshape(3,3)",
      "metadata": {
        "trusted": true
      },
      "outputs": [],
      "execution_count": null
    },
    {
      "cell_type": "markdown",
      "source": "to calculate the row-wise sum of arrays in python we use the function called as the sum() and we pass the parameters like variable_name i..e data in this case and axis=1 this represent the rows in the array.there are two ways in calculating the sum of all the rows in the array.",
      "metadata": {}
    },
    {
      "cell_type": "code",
      "source": "sum_of_row=np.sum(data , axis=1)",
      "metadata": {
        "trusted": true
      },
      "outputs": [],
      "execution_count": null
    },
    {
      "cell_type": "code",
      "source": "data.sum(axis=1)",
      "metadata": {
        "trusted": true
      },
      "outputs": [],
      "execution_count": null
    },
    {
      "cell_type": "markdown",
      "source": "To calculate the column-wise sum of the arrays in python we use the same function that is sum() function and here we pass the parameters are one is the variable_name i...e data in this case and the axis00 represents the columns of an array. in the column_wise_calculations also we  have 2 methods.",
      "metadata": {}
    },
    {
      "cell_type": "code",
      "source": "sum_of_column=np.sum(data , axis=0)",
      "metadata": {
        "trusted": true
      },
      "outputs": [],
      "execution_count": null
    },
    {
      "cell_type": "code",
      "source": "data.sum(axis=0)",
      "metadata": {
        "trusted": true
      },
      "outputs": [],
      "execution_count": null
    },
    {
      "cell_type": "markdown",
      "source": "--------",
      "metadata": {}
    },
    {
      "cell_type": "markdown",
      "source": "### **Assignment 2: Indexing and Slicing** (15 points)\n**Objective**: Learn how to efficiently access and manipulate array elements using indexing and slicing.",
      "metadata": {}
    },
    {
      "cell_type": "markdown",
      "source": "1. **Task**:\n   - Create a NumPy array of 100 numbers starting from 0.",
      "metadata": {}
    },
    {
      "cell_type": "markdown",
      "source": "creating a numpy array of 100 numbers starting from 0 to 100 using arange() function of numpy",
      "metadata": {}
    },
    {
      "cell_type": "code",
      "source": "d1=np.arange(0,101)",
      "metadata": {
        "trusted": true
      },
      "outputs": [],
      "execution_count": null
    },
    {
      "cell_type": "code",
      "source": "d1",
      "metadata": {
        "trusted": true
      },
      "outputs": [],
      "execution_count": null
    },
    {
      "cell_type": "code",
      "source": "- Slice the array to select:\n     - Every second element.\n     - The last 10 elements.\n     - Reverse the array using slicing.",
      "metadata": {
        "trusted": true
      },
      "outputs": [],
      "execution_count": null
    },
    {
      "cell_type": "markdown",
      "source": "we use the slicing to select the particular or specific element from the array .",
      "metadata": {}
    },
    {
      "cell_type": "code",
      "source": "#slicing the array to select the every second element \nevery_second_element = arr[::2]\n#slicing the array to print the last 10 elements\nlast_10_elements = arr[-10:]\n#slicing the array to reverse the array \nreversed_array = arr[::-1]\n#Now printing all the three\nprint(\"the every second element of the array are:\",every_second_element)\nprint(\"the last 10 elements of the array are:\",last_10_elements)\nprint(\"the reversed array is:\",reversed_array)",
      "metadata": {
        "trusted": true
      },
      "outputs": [],
      "execution_count": null
    },
    {
      "cell_type": "code",
      "source": "- Modify the slice of the first 10 elements to set them all to `-1`",
      "metadata": {
        "trusted": true
      },
      "outputs": [],
      "execution_count": null
    },
    {
      "cell_type": "code",
      "source": "arr[:10]=-1",
      "metadata": {
        "trusted": true
      },
      "outputs": [],
      "execution_count": null
    },
    {
      "cell_type": "code",
      "source": "arr",
      "metadata": {
        "trusted": true
      },
      "outputs": [],
      "execution_count": null
    },
    {
      "cell_type": "markdown",
      "source": "in the above program we replace first 10 elements of the array with -1 number .",
      "metadata": {}
    },
    {
      "cell_type": "markdown",
      "source": "2. **Question**: What happens when you modify a slice of the array? Explain the behavior of array slicing and its effect on the original array.",
      "metadata": {}
    },
    {
      "cell_type": "markdown",
      "source": "  ans: when we modify a slice of the array in the numpy it directly changes the element in the original array.It is not similar to the pandas list because in pandas list , the slice of the array will be the copy of the original array and when we change or modify the a slice of the array in the pandas list it does not affect the original array . \n    * But in the numpy arrays when we modify the slice of the array the original array also gets modified becuase the slice in the numpy array is the direct access to the main array .\n    * The main advantage of using this numpy array is there are noo multiple duplicate copies of the original numpy array .",
      "metadata": {}
    },
    {
      "cell_type": "code",
      "source": "",
      "metadata": {
        "trusted": true
      },
      "outputs": [],
      "execution_count": null
    },
    {
      "cell_type": "markdown",
      "source": "--------",
      "metadata": {}
    },
    {
      "cell_type": "markdown",
      "source": "### **Assignment 3: Boolean Indexing and Filtering** (20 points)\n**Objective**: Use Boolean indexing to filter and manipulate arrays based on conditions.",
      "metadata": {}
    },
    {
      "cell_type": "markdown",
      "source": "1. **Task**:\n   - Create a NumPy array with random integers between 0 and 50.",
      "metadata": {}
    },
    {
      "cell_type": "markdown",
      "source": "  ans:To create a random integers numpy array between 0 and 50 we use the python numpy built-in function called as np.random.randint(). In this function we use the size attribute this defines size of the array.",
      "metadata": {}
    },
    {
      "cell_type": "code",
      "source": "random_array=np.random.randint(0 , 50 , size=15)",
      "metadata": {
        "trusted": true
      },
      "outputs": [],
      "execution_count": null
    },
    {
      "cell_type": "markdown",
      "source": "- Use Boolean indexing to:\n     - Find all elements greater than 25.",
      "metadata": {}
    },
    {
      "cell_type": "code",
      "source": "greater_than_25 = random_array[random_array>25]",
      "metadata": {
        "trusted": true
      },
      "outputs": [],
      "execution_count": null
    },
    {
      "cell_type": "markdown",
      "source": "- Replace all even numbers with the value `0`.",
      "metadata": {}
    },
    {
      "cell_type": "code",
      "source": "random_array[random_array % 2 == 0]=0\nprint(random_array)",
      "metadata": {
        "trusted": true
      },
      "outputs": [],
      "execution_count": null
    },
    {
      "cell_type": "markdown",
      "source": "- Find the number of elements greater than 40.",
      "metadata": {}
    },
    {
      "cell_type": "code",
      "source": "sumof_array_elements_greater_than_40 = np.sum(random_array > 40)\nprint(sumof_array_elements_greater_than_40)",
      "metadata": {
        "trusted": true
      },
      "outputs": [],
      "execution_count": null
    },
    {
      "cell_type": "markdown",
      "source": "2. **Bonus**: Use Boolean indexing to select all elements in the array that are divisible by 3.",
      "metadata": {}
    },
    {
      "cell_type": "code",
      "source": "divisible_by_3 = array[array % 3 == 0]\nprint(divisible_by_3)",
      "metadata": {
        "trusted": true
      },
      "outputs": [],
      "execution_count": null
    },
    {
      "cell_type": "markdown",
      "source": "In the above program we first check every element in the array are divisible by 3 are not and after that we will print those numbers using the print statment .",
      "metadata": {}
    },
    {
      "cell_type": "markdown",
      "source": "-----",
      "metadata": {}
    },
    {
      "cell_type": "markdown",
      "source": "### **Assignment 4: Fancy Indexing** (15 points)\n**Objective**: Explore fancy indexing to select elements from a NumPy array using index arrays.",
      "metadata": {}
    },
    {
      "cell_type": "markdown",
      "source": "1. **Task**:\n   - Create a NumPy array with 10 random numbers between 1 and 100.",
      "metadata": {}
    },
    {
      "cell_type": "code",
      "source": "random_array = np.random.randint(1, 101, size=10)\nprint(\"Random array:\", random_array)",
      "metadata": {
        "trusted": true
      },
      "outputs": [],
      "execution_count": null
    },
    {
      "cell_type": "markdown",
      "source": "- Select elements at indices `[1, 4, 7]` using fancy indexing.",
      "metadata": {}
    },
    {
      "cell_type": "code",
      "source": "selected_elements_at_specific_indices = random_array[[1,4,7]]",
      "metadata": {
        "trusted": true
      },
      "outputs": [],
      "execution_count": null
    },
    {
      "cell_type": "markdown",
      "source": "In the above program we are using the python indexing to acess the specified elements from the numpy array",
      "metadata": {}
    },
    {
      "cell_type": "markdown",
      "source": "- Rearrange the array in the order of indices `[9, 0, 5, 3, 8]` and print the resulting array.",
      "metadata": {}
    },
    {
      "cell_type": "code",
      "source": "rearranged_array = random_array[[9, 0, 5, 3, 8]]\nprint(\"Rearranged array:\", rearranged_array)",
      "metadata": {
        "trusted": true
      },
      "outputs": [],
      "execution_count": null
    },
    {
      "cell_type": "markdown",
      "source": "------",
      "metadata": {}
    },
    {
      "cell_type": "markdown",
      "source": "### **Assignment 5: Vectorized Operations** (20 points)\n**Objective**: Perform element-wise operations using vectorized computations in NumPy.",
      "metadata": {}
    },
    {
      "cell_type": "markdown",
      "source": "1. **Task**:\n   - Create two NumPy arrays `a` and `b`, each containing 5 random integers between 1 and 10.",
      "metadata": {}
    },
    {
      "cell_type": "code",
      "source": "a = np.random.randint(1, 11, size=5)\nb = np.random.randint(1, 11, size=5)\nprint(a)\nprint(b)",
      "metadata": {
        "trusted": true
      },
      "outputs": [],
      "execution_count": null
    },
    {
      "cell_type": "markdown",
      "source": "- Perform the following operations:\n     - Add `a` and `b`.\n     - Multiply `a` and `b`.\n     - Raise `a` to the power of `b`.\n     - Find the dot product of `a` and `b`.",
      "metadata": {}
    },
    {
      "cell_type": "code",
      "source": "a = np.random.randint(1, 11, size=5)\nb = np.random.randint(1, 11, size=5)\nprint(\"Array a:\", a)\nprint(\"Array b:\", b)\n\naddition = a + b\nprint(\"a + b:\", addition)\n\nmultiplication = a * b\nprint(\"a * b:\", multiplication)\n\npower = np.power(a, b)\nprint(\"a^b:\", power)\n\ndot_product = np.dot(a, b)\nprint(\"Dot product of a and b:\", dot_product)",
      "metadata": {
        "trusted": true
      },
      "outputs": [],
      "execution_count": null
    },
    {
      "cell_type": "markdown",
      "source": "2. **Question**: How do vectorized operations in NumPy differ from using loops in Python for performing these operations?",
      "metadata": {}
    },
    {
      "cell_type": "markdown",
      "source": "The differenece between the vectorized operations in numpy differ from using loops in python for performing therse operations :\n* performance in related to speed:\n    In numpy the vectorized operations will be performed more efficiently and it is more speed compare to the loops in python\n    The general loops in python are are perform eficiently but they are not much speed than the numpy arrays.\n* Erros:\n   In the numpy the code will be simple and efficient there are no chance for the errors.\n   But in the loops of python it leads to the errors.\n* Taking time in handling large data sets:\n   Using numpy we can easily able to handle the large data sets and the time also consumed less in this because it executes all the elements at a time .\n   But in python loops handling the large datasets will become more difficult because it executes only one element at a time.",
      "metadata": {}
    },
    {
      "cell_type": "markdown",
      "source": "------",
      "metadata": {}
    },
    {
      "cell_type": "markdown",
      "source": "### **Assignment 6: Statistical Methods and Linear Algebra** (10 points)\n**Objective**: Explore basic statistical methods and linear algebra in NumPy.",
      "metadata": {}
    },
    {
      "cell_type": "markdown",
      "source": "1. **Task**:\n   - Create a 3x3 matrix of random integers.",
      "metadata": {}
    },
    {
      "cell_type": "code",
      "source": "matrix = np.random.randint(1, 11, size=(3, 3))\nprint(matrix)",
      "metadata": {
        "trusted": true
      },
      "outputs": [],
      "execution_count": null
    },
    {
      "cell_type": "markdown",
      "source": "- Calculate:\n     - The mean, standard deviation, and variance of the matrix.",
      "metadata": {}
    },
    {
      "cell_type": "code",
      "source": "mean = np.mean(matrix)\nstd_dev = np.std(matrix)\nvariance = np.var(matrix)\nprint(mean)\nprint(std_dev)\nprint(variance)",
      "metadata": {
        "trusted": true
      },
      "outputs": [],
      "execution_count": null
    },
    {
      "cell_type": "markdown",
      "source": "- The determinant of the matrix using `np.linalg.det()`.",
      "metadata": {}
    },
    {
      "cell_type": "code",
      "source": "determinant = np.linalg.det(matrix)\nprint(\"Determinant of the matrix:\", determinant)",
      "metadata": {
        "trusted": true
      },
      "outputs": [],
      "execution_count": null
    },
    {
      "cell_type": "markdown",
      "source": "- The inverse of the matrix using `np.linalg.inv()`.",
      "metadata": {}
    },
    {
      "cell_type": "code",
      "source": "inverse_matrix=np.linalg.inv(matrix)\nprint(\"the inverse of the matrix is:\",inverse_matrix)",
      "metadata": {
        "trusted": true
      },
      "outputs": [],
      "execution_count": null
    },
    {
      "cell_type": "markdown",
      "source": "-----",
      "metadata": {}
    },
    {
      "cell_type": "markdown",
      "source": "### **Assignment 7: Random Number Generation** (10 points)\n**Objective**: Understand how to generate random numbers using NumPy's random module.",
      "metadata": {}
    },
    {
      "cell_type": "markdown",
      "source": "1. **Task**:\n   - Generate a random array of 10 numbers between 0 and 1.",
      "metadata": {}
    },
    {
      "cell_type": "code",
      "source": "random_array = np.random.randint(1,11,size=10)\nprint(\"Random array of 10 numbers between 0 and 1:\\n\", random_array)",
      "metadata": {
        "trusted": true
      },
      "outputs": [],
      "execution_count": null
    },
    {
      "cell_type": "markdown",
      "source": "- Create a 2D array of shape (3, 3) with random integers between 10 and 50.",
      "metadata": {}
    },
    {
      "cell_type": "code",
      "source": "random_2d_array = np.random.randint(10, 51, size=(3, 3))\nprint(random_2d_array)",
      "metadata": {
        "trusted": true
      },
      "outputs": [],
      "execution_count": null
    },
    {
      "cell_type": "markdown",
      "source": "- Generate a random array of shape (5, 5) where all elements are drawn from a standard normal distribution (mean=0, std=1).",
      "metadata": {}
    },
    {
      "cell_type": "code",
      "source": "random_array_normal = np.random.randn(5, 5)\nprint(\"\\nRandom array of shape (5, 5) drawn from a standard normal distribution:\\n\", random_array_normal)",
      "metadata": {
        "trusted": true
      },
      "outputs": [],
      "execution_count": null
    },
    {
      "cell_type": "markdown",
      "source": "-----",
      "metadata": {}
    },
    {
      "cell_type": "markdown",
      "source": "### **Assignment 8: Example: Random Walk Simulation** (15 points)\n**Objective**: Apply NumPy’s array and vectorized computation concepts to simulate a random walk.",
      "metadata": {}
    },
    {
      "cell_type": "markdown",
      "source": "1. **Task**:\n   - Simulate a random walk with 1,000 steps where each step is +1 or -1.\n   - Plot the cumulative sum of the walk using matplotlib.\n   - Calculate the maximum and minimum values of the walk.",
      "metadata": {}
    },
    {
      "cell_type": "markdown",
      "source": "for this task first we need to import the matplotlib python library ",
      "metadata": {}
    },
    {
      "cell_type": "code",
      "source": "import matplotlib.pyplot as plt",
      "metadata": {
        "trusted": true
      },
      "outputs": [],
      "execution_count": null
    },
    {
      "cell_type": "code",
      "source": "steps = 1000\nrandom_steps = np.random.choice([-1, 1], size=steps)\nrandom_walk = np.cumsum(random_steps)\nplt.plot(random_walk, label='Random Walk', color='blue')\nplt.title('Random Walk Simulation')\nplt.xlabel('Steps')\nplt.ylabel('Cumulative Sum')\nmax_value = np.max(random_walk)\nmin_value = np.min(random_walk)\n\nprint(\"Maximum value of the walk:\", max_value)\nprint(\"Minimum value of the walk:\", min_value)",
      "metadata": {
        "trusted": true
      },
      "outputs": [],
      "execution_count": null
    },
    {
      "cell_type": "code",
      "source": "",
      "metadata": {
        "trusted": true
      },
      "outputs": [],
      "execution_count": null
    }
  ]
}