{
  "metadata": {
    "kernelspec": {
      "name": "python",
      "display_name": "Python (Pyodide)",
      "language": "python"
    },
    "language_info": {
      "name": ""
    }
  },
  "nbformat_minor": 4,
  "nbformat": 4,
  "cells": [
    {
      "cell_type": "markdown",
      "source": "### **Advanced Assignment: NumPy Basics - Arrays and Vectorized Computation**\n### **Total Points: 100**",
      "metadata": {}
    },
    {
      "cell_type": "markdown",
      "source": "----",
      "metadata": {}
    },
    {
      "cell_type": "markdown",
      "source": "### **Assignment 1: Advanced Array Creation and Manipulation** (20 points)\n**Objective**: Test your ability to create and manipulate complex NumPy arrays.",
      "metadata": {}
    },
    {
      "cell_type": "markdown",
      "source": "1. **Task**: \n   - Create a 5x5 NumPy array where each element is the sum of its row index and column index.\n   - Using slicing, extract:\n     - A 3x3 sub-array from the top left corner.\n     - All elements that lie on the diagonal of the original array.",
      "metadata": {}
    },
    {
      "cell_type": "code",
      "source": "array = np.fromfunction(lambda i, j: i + j, (5, 5), dtype=int)\nprint(\"Original 5x5 Array:\\n\", array)\n\n#taking the (3*3) array elements from the left corner of the original array\nsub_array_3x3 = array[:3, :3]\nprint(\"\\n3x3 Sub-array from the top left corner:\\n\", sub_array_3x3)\n\n# printing all the diagonal elements that lie on the original array\ndiagonal_elements = array.diagonal()\nprint(\"\\nDiagonal elements of the original array:\\n\", diagonal_elements)",
      "metadata": {
        "trusted": true
      },
      "outputs": [],
      "execution_count": null
    },
    {
      "cell_type": "markdown",
      "source": "2. **Bonus**: Without using a loop, replace all diagonal elements with `0`.",
      "metadata": {}
    },
    {
      "cell_type": "code",
      "source": "np.fill_diagonal(array, 0)\nprint(array)",
      "metadata": {
        "trusted": true
      },
      "outputs": [],
      "execution_count": null
    },
    {
      "cell_type": "markdown",
      "source": "-----",
      "metadata": {}
    },
    {
      "cell_type": "markdown",
      "source": "### **Assignment 2: Broadcasting and Conditional Assignment** (20 points)\n**Objective**: Use broadcasting and condition-based assignments in NumPy arrays.",
      "metadata": {}
    },
    {
      "cell_type": "markdown",
      "source": "1. **Task**:\n   - Create a 4x4 array with random integers between 10 and 50.\n   - Replace all elements greater than 25 with their difference from the mean of the entire array.\n   - Replace all elements less than 25 with their squared values.",
      "metadata": {}
    },
    {
      "cell_type": "code",
      "source": "array = np.random.randint(10, 51, size=(4, 4))\nprint(\"Original 4x4 Array:\\n\", array)\n\nmean_value = np.mean(array)\nprint(\"\\nMean of the array:\", mean_value)\n\narray[array > 25] = array[array > 25] - mean_value\n\narray[array <= 25] = array[array <= 25] ** 2\nprint(\"\\nModified Array:\\n\", array)",
      "metadata": {
        "trusted": true
      },
      "outputs": [],
      "execution_count": null
    },
    {
      "cell_type": "markdown",
      "source": "2. **Bonus**: Use NumPy broadcasting to subtract the mean of each row from the respective row elements.",
      "metadata": {}
    },
    {
      "cell_type": "code",
      "source": "mean_values_of_each_rows = np.mean(array, axis=1, keepdims=True)\nprint(\"\\nMean of each row:\\n\", mean_values_of_each_rows)\n\narray = array - row_means\nprint(\"\\nArray after subtracting the mean of each row:\\n\", array)",
      "metadata": {
        "trusted": true
      },
      "outputs": [],
      "execution_count": null
    },
    {
      "cell_type": "markdown",
      "source": "------",
      "metadata": {}
    },
    {
      "cell_type": "markdown",
      "source": "### **Assignment 3: Complex Boolean Indexing** (15 points)\n**Objective**: Combine multiple conditions to filter elements using Boolean indexing.",
      "metadata": {}
    },
    {
      "cell_type": "markdown",
      "source": "1. **Task**:\n   - Generate a random array of shape (5, 5) with integers between 1 and 100.\n   - Find all elements that are:\n     - Even and greater than 50.\n     - Odd or less than 30.\n   - Replace these elements with `-1`.",
      "metadata": {}
    },
    {
      "cell_type": "code",
      "source": "array = np.random.randint(1, 101, size=(5, 5))\nprint(\"Original Array:\\n\", array)\ncondition1 = (array % 2 == 0) & (array > 50)\ncondition2 = (array % 2 != 0) | (array < 30)\ncombined_condition = condition1 | condition2\narray[combined_condition] = -1\nprint(\"\\nModified Array (with specified elements replaced by -1):\\n\", array)",
      "metadata": {
        "trusted": true
      },
      "outputs": [],
      "execution_count": null
    },
    {
      "cell_type": "markdown",
      "source": "2. **Bonus**: Count how many elements in the array satisfy both conditions.",
      "metadata": {}
    },
    {
      "cell_type": "code",
      "source": "count_condition1 = np.sum(condition1)\ncount_condition2 = np.sum(condition2)\nprint(\"\\nNumber of elements that are even and greater than 50:\", count_condition1)\nprint(\"Number of elements that are odd or less than 30:\", count_condition2)\nprint(\"Total number of elements satisfying either condition:\", np.sum(combined_condition))",
      "metadata": {
        "trusted": true
      },
      "outputs": [],
      "execution_count": null
    },
    {
      "cell_type": "markdown",
      "source": "-----",
      "metadata": {}
    },
    {
      "cell_type": "markdown",
      "source": "### **Assignment 4: Advanced Fancy Indexing** (15 points)\n**Objective**: Work with more complex cases of fancy indexing.",
      "metadata": {}
    },
    {
      "cell_type": "markdown",
      "source": "1. **Task**:\n   - Create an 8x8 matrix of integers between 1 and 64 (inclusive).\n   - Using fancy indexing, extract all elements that are in even rows and odd columns.\n   - Rearrange the rows of the matrix in reverse order without using slicing.",
      "metadata": {}
    },
    {
      "cell_type": "code",
      "source": "matrix = np.random.randint(1, 65, size=(8, 8))\nprint(\"Original 8x8 Matrix:\\n\", matrix)\n\neven_rows = matrix[::2]  # Even rows (0, 2, 4, 6)\nodd_columns = matrix[:, 1::2]  # Odd columns (1, 3, 5, 7)\n\nextracted_elements = even_rows[:, 1::2]\nprint(\"\\nElements in even rows and odd columns:\\n\", extracted_elements)\n\nreversed_matrix = np.empty_like(matrix)\nfor i in range(matrix.shape[0]):\n    reversed_matrix[i] = matrix[matrix.shape[0] - 1 - i]\nprint(\"\\nReversed Matrix:\\n\", reversed_matrix)",
      "metadata": {
        "trusted": true
      },
      "outputs": [],
      "execution_count": null
    },
    {
      "cell_type": "markdown",
      "source": "2. **Bonus**: Use fancy indexing to swap the first and last columns of the matrix",
      "metadata": {}
    },
    {
      "cell_type": "code",
      "source": "first_column = matrix[:, 0].copy()\nmatrix[:, 0] = matrix[:, -1]\nmatrix[:, -1] = first_column",
      "metadata": {
        "trusted": true
      },
      "outputs": [],
      "execution_count": null
    },
    {
      "cell_type": "code",
      "source": "print(matrix)",
      "metadata": {
        "trusted": true
      },
      "outputs": [],
      "execution_count": null
    },
    {
      "cell_type": "markdown",
      "source": "-----",
      "metadata": {}
    },
    {
      "cell_type": "markdown",
      "source": "### **Assignment 5: Vectorized Operations on Matrices** (15 points)\n**Objective**: Apply element-wise and matrix operations using vectorized computations.",
      "metadata": {}
    },
    {
      "cell_type": "markdown",
      "source": "1. **Task**:\n   - Create two 3x3 matrices with random integers between 1 and 20.\n   - Perform the following operations without using loops:\n     - Element-wise multiplication.\n     - Calculate the element-wise maximum of the two matrices.\n     - Compute the matrix product of the two matrices.",
      "metadata": {}
    },
    {
      "cell_type": "code",
      "source": "matrix_a = np.random.randint(1, 21, size=(3, 3))\nmatrix_b = np.random.randint(1, 21, size=(3, 3))\nprint(\"Matrix A:\\n\", matrix_a)\nprint(\"\\nMatrix B:\\n\", matrix_b)\n\nelementwise_multiplication = matrix_a * matrix_b\nprint(\"\\nElement-wise Multiplication:\\n\", elementwise_multiplication)\n\nelementwise_maximum = np.maximum(matrix_a, matrix_b)\nprint(\"\\nElement-wise Maximum:\\n\", elementwise_maximum)\n\nmatrix_product = np.dot(matrix_a, matrix_b)\nprint(\"\\nMatrix Product:\\n\", matrix_product)",
      "metadata": {
        "trusted": true
      },
      "outputs": [],
      "execution_count": null
    },
    {
      "cell_type": "markdown",
      "source": "2. **Question**: What advantage does vectorized matrix multiplication in NumPy offer compared to using nested loops for the same task?",
      "metadata": {}
    },
    {
      "cell_type": "markdown",
      "source": "  ans: the advantages of vectorised matrix multiplication in numpy offer comapred to using nested loops for the same task are:\n    * performance of the code: Compared to the python nested loops the vectorized operations are performed more faster and they perform efficiently .\n    * code clarity: comapring the both in vectorized operations the python code will be small and it is easy to read but in python nested loops the code will be soo long and it also not easy to read the code.\n    * errors: in vectorized operations the code will be small and there will be no errors but in nested python loops the code will be large and there will be loops within a loops and it will cause more errors .",
      "metadata": {}
    },
    {
      "cell_type": "markdown",
      "source": "------",
      "metadata": {}
    },
    {
      "cell_type": "markdown",
      "source": "### **Assignment 6: Random Walks with Multiple Particles** (15 points)\n**Objective**: Simulate multiple random walks simultaneously and analyze the results.",
      "metadata": {}
    },
    {
      "cell_type": "markdown",
      "source": "1. **Task**:\n   - Simulate 100 random walks with 500 steps each. Each step is either +1 or -1, chosen randomly.\n   - Calculate the average position of the particles at each step.\n   - Identify which walk(s) reached the highest and lowest position.",
      "metadata": {}
    },
    {
      "cell_type": "code",
      "source": "num_walks = 100\nnum_steps = 500\n\nsteps = np.random.choice([-1, 1], size=(num_walks, num_steps))\nwalks = np.cumsum(steps, axis=1)\n\naverage_position = np.mean(walks, axis=0)\n\nmax_position = np.max(walks)\nmin_position = np.min(walks)\n\nhighest_walk = np.argmax(np.max(walks, axis=1))\nlowest_walk = np.argmin(np.min(walks, axis=1))\n\nprint(f\"Walk {highest_walk} reached the highest position of {max_position}.\")\nprint(f\"Walk {lowest_walk} reached the lowest position of {min_position}.\")",
      "metadata": {
        "trusted": true
      },
      "outputs": [],
      "execution_count": null
    },
    {
      "cell_type": "markdown",
      "source": "2. **Bonus**: Plot the position of the walk that had the largest positive deviation from the origin.",
      "metadata": {}
    },
    {
      "cell_type": "code",
      "source": "plt.figure(figsize=(12, 6))\nplt.plot(walks[highest_walk], label=f\"Walk {highest_walk} (Highest Deviation)\", color='green')\nplt.title(f\"Position of Walk {highest_walk} (Largest Positive Deviation)\")\nplt.xlabel(\"Step\")\nplt.ylabel(\"Position\")",
      "metadata": {
        "trusted": true
      },
      "outputs": [],
      "execution_count": null
    },
    {
      "cell_type": "markdown",
      "source": "------",
      "metadata": {}
    },
    {
      "cell_type": "markdown",
      "source": "### **Assignment 7: Advanced Statistical Methods and Matrix Operations** (15 points)\n**Objective**: Use NumPy’s advanced linear algebra and statistical capabilities.",
      "metadata": {}
    },
    {
      "cell_type": "markdown",
      "source": "1. **Task**:\n   - Create a 4x4 matrix with random floating-point numbers between 0 and 1.\n   - Perform the following operations:\n     - Calculate the column-wise and row-wise means.\n     - Compute the matrix inverse and verify the result by multiplying it with the original matrix.\n     - Calculate the eigenvalues and eigenvectors of the matrix.",
      "metadata": {}
    },
    {
      "cell_type": "code",
      "source": "matrix = np.random.rand(4, 4)\nprint(\"Original 4x4 Matrix:\\n\", matrix)\ncolumn_means = np.mean(matrix, axis=0)\nrow_means = np.mean(matrix, axis=1)\nprint(\"\\nColumn-wise Means:\\n\", column_means)\nprint(\"\\nRow-wise Means:\\n\", row_means)\n\nmatrix_inverse = np.linalg.inv(matrix)\nprint(\"\\nMatrix Inverse:\\n\", matrix_inverse)\n    \nidentity_matrix = np.dot(matrix, matrix_inverse)\nprint(\"\\nVerification (Original * Inverse):\\n\", identity_matrix)\n\neigenvalues, eigenvectors = np.linalg.eig(matrix)\nprint(\"\\nEigenvalues:\\n\", eigenvalues)\nprint(\"\\nEigenvectors:\\n\", eigenvectors)",
      "metadata": {
        "trusted": true
      },
      "outputs": [],
      "execution_count": null
    },
    {
      "cell_type": "markdown",
      "source": "2. **Bonus**: Use NumPy to solve the system of linear equations `Ax = b`, where `A` is your 4x4 matrix and `b` is a random vector of length 4.",
      "metadata": {}
    },
    {
      "cell_type": "code",
      "source": "A = np.random.rand(4, 4)\nprint(\"Matrix A:\\n\", A)\nb = np.random.rand(4)\nprint(\"\\nVector b:\\n\", b)\nx = np.linalg.solve(A, b)\nprint(\"\\nSolution vector x (such that Ax = b):\\n\", x)\nb_check = np.dot(A, x)\nprint(\"\\nVerification (A * x):\\n\", b_check)\nprint(\"\\nOriginal vector b:\\n\", b)\nx = np.linalg.solve(A, b)\nprint(\"\\nSolution vector x (such that Ax = b):\\n\", x)\nb_check = np.dot(A, x)\nprint(\"\\nVerification (A * x):\\n\", b_check)\nprint(\"\\nOriginal vector b:\\n\", b)\nprint(\"\\nMatrix A is singular and cannot be used to solve the system.\")",
      "metadata": {
        "trusted": true
      },
      "outputs": [],
      "execution_count": null
    },
    {
      "cell_type": "markdown",
      "source": "-------",
      "metadata": {}
    },
    {
      "cell_type": "markdown",
      "source": "### **Assignment 8: Multi-dimensional Array Manipulation** (10 points)\n**Objective**: Understand how to work with high-dimensional arrays.",
      "metadata": {}
    },
    {
      "cell_type": "markdown",
      "source": "1. **Task**:\n   - Create a 3D NumPy array of shape (4, 4, 4) filled with random integers between 1 and 100.\n   - Calculate the sum across each axis.\n   - Reshape the array into a 2D array while preserving the data.",
      "metadata": {}
    },
    {
      "cell_type": "code",
      "source": "array_3d = np.random.randint(1, 101, size=(4, 4, 4))\nprint(\"Original 3D Array (4x4x4):\\n\", array_3d)\n\nsum_axis_0 = np.sum(array_3d, axis=0)  \nsum_axis_1 = np.sum(array_3d, axis=1)  \nsum_axis_2 = np.sum(array_3d, axis=2)  \n\nprint(\"\\nSum along axis 0 (depth):\\n\", sum_axis_0)\nprint(\"\\nSum along axis 1 (rows):\\n\", sum_axis_1)\nprint(\"\\nSum along axis 2 (columns):\\n\", sum_axis_2)\n\narray_2d = array_3d.reshape(16, 4)  \nprint(\"\\nReshaped 2D Array (16x4):\\n\", array_2d)",
      "metadata": {
        "trusted": true
      },
      "outputs": [],
      "execution_count": null
    },
    {
      "cell_type": "markdown",
      "source": "2. **Bonus**: Convert the reshaped array back into a 3D array of shape (4, 4, 4).",
      "metadata": {}
    },
    {
      "cell_type": "code",
      "source": "",
      "metadata": {
        "trusted": true
      },
      "outputs": [],
      "execution_count": null
    }
  ]
}