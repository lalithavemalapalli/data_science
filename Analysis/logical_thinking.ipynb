{
 "cells": [
  {
   "cell_type": "markdown",
   "metadata": {},
   "source": [
    "### problem \n",
    "here i need to create the dataframe which contains the columns like stud_id,stud_name,subjects,exam_type(internal exams , practical exams and theory exams).solve this problem using the pandas, python and numpy ."
   ]
  },
  {
   "cell_type": "markdown",
   "metadata": {},
   "source": [
    "### step 1: \n",
    "now first step is to create the empty dataframe with the column names are stud_id,stud_name,subjects,test_type,scored_marks,total_marks,year"
   ]
  },
  {
   "cell_type": "code",
   "execution_count": 243,
   "metadata": {},
   "outputs": [],
   "source": [
    "import pandas as pd\n",
    "import numpy as np\n",
    "import random"
   ]
  },
  {
   "cell_type": "code",
   "execution_count": 164,
   "metadata": {},
   "outputs": [
    {
     "data": {
      "text/html": [
       "<div>\n",
       "<style scoped>\n",
       "    .dataframe tbody tr th:only-of-type {\n",
       "        vertical-align: middle;\n",
       "    }\n",
       "\n",
       "    .dataframe tbody tr th {\n",
       "        vertical-align: top;\n",
       "    }\n",
       "\n",
       "    .dataframe thead th {\n",
       "        text-align: right;\n",
       "    }\n",
       "</style>\n",
       "<table border=\"1\" class=\"dataframe\">\n",
       "  <thead>\n",
       "    <tr style=\"text-align: right;\">\n",
       "      <th></th>\n",
       "      <th>student_id</th>\n",
       "      <th>stud_name</th>\n",
       "      <th>subject</th>\n",
       "      <th>test_type</th>\n",
       "      <th>scored_marks</th>\n",
       "      <th>total_marks</th>\n",
       "      <th>year</th>\n",
       "    </tr>\n",
       "  </thead>\n",
       "  <tbody>\n",
       "  </tbody>\n",
       "</table>\n",
       "</div>"
      ],
      "text/plain": [
       "Empty DataFrame\n",
       "Columns: [student_id, stud_name, subject, test_type, scored_marks, total_marks, year]\n",
       "Index: []"
      ]
     },
     "execution_count": 164,
     "metadata": {},
     "output_type": "execute_result"
    }
   ],
   "source": [
    "df=pd.DataFrame(columns=['student_id','stud_name','subject','test_type','scored_marks','total_marks','year'])\n",
    "df"
   ]
  },
  {
   "cell_type": "markdown",
   "metadata": {},
   "source": [
    "printing the columns in the dataframe df by using the df.head function."
   ]
  },
  {
   "cell_type": "code",
   "execution_count": 4,
   "metadata": {},
   "outputs": [
    {
     "data": {
      "text/plain": [
       "<bound method NDFrame.head of Empty DataFrame\n",
       "Columns: [stud_id, stud_name, subject, test_type, scored_marks, total_marks, year]\n",
       "Index: []>"
      ]
     },
     "execution_count": 4,
     "metadata": {},
     "output_type": "execute_result"
    }
   ],
   "source": [
    "df.head"
   ]
  },
  {
   "cell_type": "markdown",
   "metadata": {},
   "source": [
    "first we have to create a global variable to use that variable throught the program ."
   ]
  },
  {
   "cell_type": "code",
   "execution_count": 5,
   "metadata": {},
   "outputs": [],
   "source": [
    "TOTAL_NUMBER_OF_STUD=22"
   ]
  },
  {
   "cell_type": "markdown",
   "metadata": {},
   "source": [
    "Now to create a stud_id , it is a mixture of alphabets and numeric values , so in our stud_id we are taking 4 alphabets and 8 numeric values . for that first we are creating a list of alphabets with the string.ascii_uppercase() function . and creating a list of numeric values manually."
   ]
  },
  {
   "cell_type": "code",
   "execution_count": 6,
   "metadata": {},
   "outputs": [],
   "source": [
    "import string"
   ]
  },
  {
   "cell_type": "code",
   "execution_count": 140,
   "metadata": {},
   "outputs": [],
   "source": [
    "alphabets=list(string.ascii_uppercase)\n",
    "numbers=[0,1,2,3,4,5,6,7,8,9]\n",
    "number_sample_size=8"
   ]
  },
  {
   "cell_type": "markdown",
   "metadata": {},
   "source": [
    "Now here we are initializing a sample size for charecters and numeric values."
   ]
  },
  {
   "cell_type": "code",
   "execution_count": 9,
   "metadata": {},
   "outputs": [],
   "source": [
    "import pandas as pd\n",
    "import numpy as np"
   ]
  },
  {
   "cell_type": "code",
   "execution_count": 133,
   "metadata": {},
   "outputs": [],
   "source": [
    "charecter_sample_size=4\n",
    "number_sample_size=8"
   ]
  },
  {
   "cell_type": "markdown",
   "metadata": {},
   "source": [
    "now we are creating a object and randomly selecting a choice using a np.random.choice() function from the alphabets and numbers ."
   ]
  },
  {
   "cell_type": "markdown",
   "metadata": {},
   "source": []
  },
  {
   "cell_type": "code",
   "execution_count": 157,
   "metadata": {},
   "outputs": [],
   "source": [
    "charecter_sample=np.random.choice(alphabets,size=charecter_sample_size)\n",
    "numeric_sample=np.random.choice(numbers,size=number_sample_size)"
   ]
  },
  {
   "cell_type": "markdown",
   "metadata": {},
   "source": [
    "printing the charecter_sample and numeric_sample . Here the process will be first it will randomly choice the charecters an numerics from the list we have created before and we have given the sample size for charecter i..e charester_sample_size and for numbers i..e number_sample_size."
   ]
  },
  {
   "cell_type": "code",
   "execution_count": 13,
   "metadata": {},
   "outputs": [
    {
     "data": {
      "text/plain": [
       "(array(['R', 'C', 'K', 'I'], dtype='<U1'), array([8, 1, 6, 6, 9, 0, 2, 0]))"
      ]
     },
     "execution_count": 13,
     "metadata": {},
     "output_type": "execute_result"
    }
   ],
   "source": [
    "charecter_sample,numeric_sample"
   ]
  },
  {
   "cell_type": "markdown",
   "metadata": {},
   "source": [
    "now here we are creating a object called stud_id_len and initializing with the size of the student id i...e 12"
   ]
  },
  {
   "cell_type": "code",
   "execution_count": 14,
   "metadata": {},
   "outputs": [],
   "source": [
    "stud_id_len=12"
   ]
  },
  {
   "cell_type": "markdown",
   "metadata": {},
   "source": [
    "now all are set to get the stud_id we need to write the logic that is here the logic is first we need to write a for loop for iterating the sample again and again till it creates a 12 alphanumeric stud_id and once the charecter is added to the id that charecter should be removed from the charecters list . similarly for the numbers also."
   ]
  },
  {
   "cell_type": "markdown",
   "metadata": {},
   "source": [
    "Now we are going to the program , in the below program 8th line performes the combining of two lists using list() function and we are using the map() function it takes 2 arguments one is function and iterable . here in this case the function will be string and the iterable will be the numeric_sample for which we need to apply the function (str).\n",
    "\n",
    "And then , in the 9th line of the program we are using the np.random.shuffle() method from the numpy , this function os used to shuffle the numbers and charecters in the student_id.\n",
    "\n",
    "And then , in the 10th line we ae using something called as join() method this function is used to join the shuffeled student_id withoout any spaces ."
   ]
  },
  {
   "cell_type": "code",
   "execution_count": 163,
   "metadata": {},
   "outputs": [
    {
     "name": "stdout",
     "output_type": "stream",
     "text": [
      "Student ID: 3CQ198R572F6\n"
     ]
    }
   ],
   "source": [
    "import string\n",
    "alphabets = list(string.ascii_uppercase)\n",
    "numbers = [0,1,2,3,4,5,6,7,8,9]\n",
    "\n",
    "number_sample_size = 8\n",
    "character_sample_size = 4\n",
    "\n",
    "character_sample = np.random.choice(alphabets, size=character_sample_size,replace=False)\n",
    "numeric_sample = np.random.choice(numbers, size=number_sample_size,replace=False)\n",
    "student_id_list = list(character_sample) + list(map(str, numeric_sample))\n",
    "\n",
    "np.random.shuffle(student_id_list)\n",
    "student_id = ''.join(student_id_list)\n",
    "print(\"Student ID:\", student_id)"
   ]
  },
  {
   "cell_type": "markdown",
   "metadata": {},
   "source": [
    "Here in this code I am manually creating a students names the len of the student_name is 22 ."
   ]
  },
  {
   "cell_type": "code",
   "execution_count": 165,
   "metadata": {},
   "outputs": [],
   "source": [
    "student_names=[\"Lalitha\",\"Anjali\",\"Swathi\",\"Sahana\",\"Triveni\",\"Divya\",\"Vismaya\",\"Akshatha\",\"Anitha\",\"Ramya\",\"Kanchana\",\"Kousalya\",\"Pavan\",\"Bharath\",\"Yuvraj\",\"Shannmukha\",\"Siddesh\",\"Sudarshan\",\"Harsha\",\"Ravi\",\"Bhuvan\",\"Akshay\"]"
   ]
  },
  {
   "cell_type": "markdown",
   "metadata": {},
   "source": [
    "In this code I am using the np.random.choice() method to randomly choose the name from the list every time when we call the function ."
   ]
  },
  {
   "cell_type": "code",
   "execution_count": null,
   "metadata": {},
   "outputs": [],
   "source": [
    "stud_name=np.random.choice(student_names)\n",
    "stud_name"
   ]
  },
  {
   "cell_type": "markdown",
   "metadata": {},
   "source": [
    "Here in this code I am creating a list of subjects manually and here I am using the np.random.choice() method to randomly choose each subject from the list ."
   ]
  },
  {
   "cell_type": "code",
   "execution_count": 175,
   "metadata": {},
   "outputs": [
    {
     "data": {
      "text/plain": [
       "np.str_('python')"
      ]
     },
     "execution_count": 175,
     "metadata": {},
     "output_type": "execute_result"
    }
   ],
   "source": [
    "sub=['python','java','c','c++','R programming','ADA']\n",
    "subject=np.random.choice(sub)\n",
    "subject"
   ]
  },
  {
   "cell_type": "markdown",
   "metadata": {},
   "source": [
    "Here in this code I am creating a list of test type ,there are three types of test ther are internal test , external test , practical tests\n",
    "and I am using the numpy np.random.choice() method to pick the test_type from the list."
   ]
  },
  {
   "cell_type": "code",
   "execution_count": 178,
   "metadata": {},
   "outputs": [
    {
     "data": {
      "text/plain": [
       "np.str_('pract_marks')"
      ]
     },
     "execution_count": 178,
     "metadata": {},
     "output_type": "execute_result"
    }
   ],
   "source": [
    "test=['int_marks','pract_marks','ext_marks']\n",
    "test_type=np.random.choice(test)\n",
    "test_type\n",
    "if test_type == 'pract_marks':\n",
    "    max_score = 25\n",
    "elif test_type == 'int_marks':\n",
    "    max_score = 40\n",
    "else:  # test_type == 'ext_marks'\n",
    "    max_score = 100"
   ]
  },
  {
   "cell_type": "markdown",
   "metadata": {},
   "source": [
    "Here I am creating one global variable called TOTAL_MARKS whichshould be alive throught the program ."
   ]
  },
  {
   "cell_type": "code",
   "execution_count": 180,
   "metadata": {},
   "outputs": [],
   "source": [
    "TOTAL_MARKS=100\n",
    "total_marks=TOTAL_MARKS"
   ]
  },
  {
   "cell_type": "code",
   "execution_count": 181,
   "metadata": {},
   "outputs": [
    {
     "data": {
      "text/plain": [
       "100"
      ]
     },
     "execution_count": 181,
     "metadata": {},
     "output_type": "execute_result"
    }
   ],
   "source": [
    "total_marks"
   ]
  },
  {
   "cell_type": "markdown",
   "metadata": {},
   "source": [
    "Here in this code I am initialising the score lenght is 2 and then creating the list of range from 0 to 10 and then I am using the numpy np.random.choice() method to randomly choose any 2 numbers from the list and then i am printing the scored marks . "
   ]
  },
  {
   "cell_type": "code",
   "execution_count": 199,
   "metadata": {},
   "outputs": [
    {
     "name": "stdout",
     "output_type": "stream",
     "text": [
      "[1 6]\n"
     ]
    }
   ],
   "source": [
    "score_len=2\n",
    "score=list(range(10))\n",
    "scored_marks=np.random.choice(score,score_len)\n",
    "print(scored_marks)\n"
   ]
  },
  {
   "cell_type": "markdown",
   "metadata": {},
   "source": [
    "Here I am creating a global variable called YEAR and passing 2024 as an argument. "
   ]
  },
  {
   "cell_type": "code",
   "execution_count": 200,
   "metadata": {},
   "outputs": [
    {
     "data": {
      "text/plain": [
       "2024"
      ]
     },
     "execution_count": 200,
     "metadata": {},
     "output_type": "execute_result"
    }
   ],
   "source": [
    "YEAR=2024\n",
    "YEAR\n"
   ]
  },
  {
   "cell_type": "markdown",
   "metadata": {},
   "source": [
    "Now here is the final program which creates the dataframe containing the information about the student marks list . \n",
    "- here in this program first I am initialising all the sample list by creating different variables .\n",
    "- And then I am creating an empty dictionary to store the values where the keys are stuent_id, student_name, subject,test_type,total_marks,scored_marks,year of passing .\n",
    "- here I am using the for loop to add the values for the df and to iterate for 22 times and in the for loop I am writing the logical code for the each key in the dictionary .\n",
    "- and then using append method we are appending the values to the empty dictionary we have created before .\n",
    " #### or \n",
    "- here is a another method to crate the dataframe that is by creating one function .\n",
    "- same way in that also first we need to create the empty dictionary and then write the logic code for that and then use the append method to add the values to the before created empty dictionary.\n",
    "- here also we are using the for loop for iteration for 22 times .\n",
    "#### diffrence between two methods\n",
    "- the main difference between two methods is in the first method without creating any function we are directly using the for loop and in the second method also we are using the for but here we are creating the function. "
   ]
  },
  {
   "cell_type": "code",
   "execution_count": 277,
   "metadata": {},
   "outputs": [],
   "source": [
    "alphabets = list(string.ascii_uppercase)\n",
    "numbers = list(range(10))\n",
    "student_names = [\"Lalitha\", \"Anjali\", \"Swathi\", \"Sahana\", \"Triveni\", \"Divya\", \"Vismaya\", \n",
    "                 \"Akshatha\", \"Anitha\", \"Ramya\", \"Kanchana\", \"Kousalya\", \"Pavan\", \"Bharath\", \n",
    "                 \"Yuvraj\", \"Shanmukha\", \"Siddesh\", \"Sudarshan\", \"Harsha\", \"Ravi\", \"Bhuvan\", \"Akshay\"]\n",
    "subjects = ['python', 'java', 'c', 'c++', 'R programming', 'ADA']\n",
    "tests = ['int_marks', 'pract_marks', 'ext_marks']\n",
    "TOTAL_MARKS = 100\n",
    "YEAR = 2024\n",
    "\n",
    "data = {\n",
    "    \"Student_ID\": [],\n",
    "    \"Student_Name\": [],\n",
    "    \"Subject\": [],\n",
    "    \"Test_Type\": [],\n",
    "    \"Total_Marks\": [],\n",
    "    \"Scored_Marks\": [],\n",
    "    \"Year\": []\n",
    "}\n",
    "for _ in range(23):\n",
    "    character_sample = np.random.choice(alphabets, size=4, replace=False)\n",
    "    numeric_sample = np.random.choice(numbers, size=8, replace=False)\n",
    "    student_id = list(character_sample) + list(map(str, numeric_sample))\n",
    "    np.random.shuffle(student_id)\n",
    "    stud_id = ''.join(student_id)\n",
    "\n",
    "    stud_name=np.random.choice(student_names)\n",
    "\n",
    "    \n",
    "    sub=['python','java','c','c++','R programming','ADA']\n",
    "    subject=np.random.choice(sub)\n",
    "    test=['int_marks','pract_marks','ext_marks']\n",
    "    test_type=np.random.choice(test)\n",
    "    if test_type == 'pract_marks':\n",
    "       max_score = 25\n",
    "    elif test_type == 'int_marks':\n",
    "       max_score = 40\n",
    "    else:  \n",
    "       max_score = 100\n",
    "    \n",
    "    \n",
    "    score_len=2\n",
    "    score=list(range(10))\n",
    "    scored_marks=np.random.choice(score,score_len)\n",
    "    scored_marks = int(''.join(map(str, scored_marks))) \n",
    "    \n",
    "    data[\"Student_ID\"].append(stud_id)\n",
    "    data[\"Student_Name\"].append(stud_name)\n",
    "    data[\"Subject\"].append(subject)\n",
    "    data[\"Test_Type\"].append(test_type)\n",
    "    data[\"Total_Marks\"].append(TOTAL_MARKS)\n",
    "    data[\"Scored_Marks\"].append(scored_marks)\n",
    "    data[\"Year\"].append(YEAR)"
   ]
  },
  {
   "cell_type": "markdown",
   "metadata": {},
   "source": [
    "here I am creating the dataframe by using pandas pd.DataFrame() method and passing the dictionary name(data) as an argument ."
   ]
  },
  {
   "cell_type": "code",
   "execution_count": 278,
   "metadata": {},
   "outputs": [
    {
     "data": {
      "text/html": [
       "<div>\n",
       "<style scoped>\n",
       "    .dataframe tbody tr th:only-of-type {\n",
       "        vertical-align: middle;\n",
       "    }\n",
       "\n",
       "    .dataframe tbody tr th {\n",
       "        vertical-align: top;\n",
       "    }\n",
       "\n",
       "    .dataframe thead th {\n",
       "        text-align: right;\n",
       "    }\n",
       "</style>\n",
       "<table border=\"1\" class=\"dataframe\">\n",
       "  <thead>\n",
       "    <tr style=\"text-align: right;\">\n",
       "      <th></th>\n",
       "      <th>Student_ID</th>\n",
       "      <th>Student_Name</th>\n",
       "      <th>Subject</th>\n",
       "      <th>Test_Type</th>\n",
       "      <th>Total_Marks</th>\n",
       "      <th>Scored_Marks</th>\n",
       "      <th>Year</th>\n",
       "    </tr>\n",
       "  </thead>\n",
       "  <tbody>\n",
       "    <tr>\n",
       "      <th>0</th>\n",
       "      <td>I2A6R3178H50</td>\n",
       "      <td>Kousalya</td>\n",
       "      <td>R programming</td>\n",
       "      <td>int_marks</td>\n",
       "      <td>100</td>\n",
       "      <td>10</td>\n",
       "      <td>2024</td>\n",
       "    </tr>\n",
       "    <tr>\n",
       "      <th>1</th>\n",
       "      <td>F36859147APN</td>\n",
       "      <td>Triveni</td>\n",
       "      <td>java</td>\n",
       "      <td>int_marks</td>\n",
       "      <td>100</td>\n",
       "      <td>70</td>\n",
       "      <td>2024</td>\n",
       "    </tr>\n",
       "    <tr>\n",
       "      <th>2</th>\n",
       "      <td>1U827605KB3Y</td>\n",
       "      <td>Lalitha</td>\n",
       "      <td>R programming</td>\n",
       "      <td>ext_marks</td>\n",
       "      <td>100</td>\n",
       "      <td>58</td>\n",
       "      <td>2024</td>\n",
       "    </tr>\n",
       "    <tr>\n",
       "      <th>3</th>\n",
       "      <td>2FG503Z9871U</td>\n",
       "      <td>Lalitha</td>\n",
       "      <td>ADA</td>\n",
       "      <td>ext_marks</td>\n",
       "      <td>100</td>\n",
       "      <td>11</td>\n",
       "      <td>2024</td>\n",
       "    </tr>\n",
       "    <tr>\n",
       "      <th>4</th>\n",
       "      <td>B4TZ27S56803</td>\n",
       "      <td>Bhuvan</td>\n",
       "      <td>c++</td>\n",
       "      <td>int_marks</td>\n",
       "      <td>100</td>\n",
       "      <td>72</td>\n",
       "      <td>2024</td>\n",
       "    </tr>\n",
       "    <tr>\n",
       "      <th>5</th>\n",
       "      <td>L1QF270534J8</td>\n",
       "      <td>Sudarshan</td>\n",
       "      <td>c++</td>\n",
       "      <td>pract_marks</td>\n",
       "      <td>100</td>\n",
       "      <td>23</td>\n",
       "      <td>2024</td>\n",
       "    </tr>\n",
       "    <tr>\n",
       "      <th>6</th>\n",
       "      <td>QP6N98721L40</td>\n",
       "      <td>Ravi</td>\n",
       "      <td>R programming</td>\n",
       "      <td>int_marks</td>\n",
       "      <td>100</td>\n",
       "      <td>90</td>\n",
       "      <td>2024</td>\n",
       "    </tr>\n",
       "    <tr>\n",
       "      <th>7</th>\n",
       "      <td>G57682C03I9P</td>\n",
       "      <td>Bhuvan</td>\n",
       "      <td>c</td>\n",
       "      <td>ext_marks</td>\n",
       "      <td>100</td>\n",
       "      <td>68</td>\n",
       "      <td>2024</td>\n",
       "    </tr>\n",
       "    <tr>\n",
       "      <th>8</th>\n",
       "      <td>FOXE84079152</td>\n",
       "      <td>Bhuvan</td>\n",
       "      <td>c</td>\n",
       "      <td>pract_marks</td>\n",
       "      <td>100</td>\n",
       "      <td>57</td>\n",
       "      <td>2024</td>\n",
       "    </tr>\n",
       "    <tr>\n",
       "      <th>9</th>\n",
       "      <td>X86704TVO921</td>\n",
       "      <td>Swathi</td>\n",
       "      <td>R programming</td>\n",
       "      <td>int_marks</td>\n",
       "      <td>100</td>\n",
       "      <td>23</td>\n",
       "      <td>2024</td>\n",
       "    </tr>\n",
       "    <tr>\n",
       "      <th>10</th>\n",
       "      <td>651703P82TSW</td>\n",
       "      <td>Bhuvan</td>\n",
       "      <td>java</td>\n",
       "      <td>int_marks</td>\n",
       "      <td>100</td>\n",
       "      <td>39</td>\n",
       "      <td>2024</td>\n",
       "    </tr>\n",
       "    <tr>\n",
       "      <th>11</th>\n",
       "      <td>8T7G2F9O5410</td>\n",
       "      <td>Ramya</td>\n",
       "      <td>java</td>\n",
       "      <td>pract_marks</td>\n",
       "      <td>100</td>\n",
       "      <td>83</td>\n",
       "      <td>2024</td>\n",
       "    </tr>\n",
       "    <tr>\n",
       "      <th>12</th>\n",
       "      <td>280Z39KG6F71</td>\n",
       "      <td>Kousalya</td>\n",
       "      <td>c</td>\n",
       "      <td>int_marks</td>\n",
       "      <td>100</td>\n",
       "      <td>93</td>\n",
       "      <td>2024</td>\n",
       "    </tr>\n",
       "    <tr>\n",
       "      <th>13</th>\n",
       "      <td>TM0B863429V7</td>\n",
       "      <td>Triveni</td>\n",
       "      <td>java</td>\n",
       "      <td>pract_marks</td>\n",
       "      <td>100</td>\n",
       "      <td>64</td>\n",
       "      <td>2024</td>\n",
       "    </tr>\n",
       "    <tr>\n",
       "      <th>14</th>\n",
       "      <td>6U9R24830V7X</td>\n",
       "      <td>Kousalya</td>\n",
       "      <td>c++</td>\n",
       "      <td>pract_marks</td>\n",
       "      <td>100</td>\n",
       "      <td>63</td>\n",
       "      <td>2024</td>\n",
       "    </tr>\n",
       "    <tr>\n",
       "      <th>15</th>\n",
       "      <td>N0542RX96F13</td>\n",
       "      <td>Shanmukha</td>\n",
       "      <td>ADA</td>\n",
       "      <td>pract_marks</td>\n",
       "      <td>100</td>\n",
       "      <td>48</td>\n",
       "      <td>2024</td>\n",
       "    </tr>\n",
       "    <tr>\n",
       "      <th>16</th>\n",
       "      <td>93Z0JT7412C5</td>\n",
       "      <td>Pavan</td>\n",
       "      <td>java</td>\n",
       "      <td>ext_marks</td>\n",
       "      <td>100</td>\n",
       "      <td>78</td>\n",
       "      <td>2024</td>\n",
       "    </tr>\n",
       "    <tr>\n",
       "      <th>17</th>\n",
       "      <td>5K8E7391X2T0</td>\n",
       "      <td>Lalitha</td>\n",
       "      <td>java</td>\n",
       "      <td>ext_marks</td>\n",
       "      <td>100</td>\n",
       "      <td>68</td>\n",
       "      <td>2024</td>\n",
       "    </tr>\n",
       "    <tr>\n",
       "      <th>18</th>\n",
       "      <td>47R5MD13Y086</td>\n",
       "      <td>Shanmukha</td>\n",
       "      <td>R programming</td>\n",
       "      <td>int_marks</td>\n",
       "      <td>100</td>\n",
       "      <td>63</td>\n",
       "      <td>2024</td>\n",
       "    </tr>\n",
       "    <tr>\n",
       "      <th>19</th>\n",
       "      <td>6485GQ0N392K</td>\n",
       "      <td>Kousalya</td>\n",
       "      <td>ADA</td>\n",
       "      <td>ext_marks</td>\n",
       "      <td>100</td>\n",
       "      <td>75</td>\n",
       "      <td>2024</td>\n",
       "    </tr>\n",
       "    <tr>\n",
       "      <th>20</th>\n",
       "      <td>86A7F2190SQ4</td>\n",
       "      <td>Kanchana</td>\n",
       "      <td>c++</td>\n",
       "      <td>int_marks</td>\n",
       "      <td>100</td>\n",
       "      <td>49</td>\n",
       "      <td>2024</td>\n",
       "    </tr>\n",
       "    <tr>\n",
       "      <th>21</th>\n",
       "      <td>HU4C839A2601</td>\n",
       "      <td>Kousalya</td>\n",
       "      <td>R programming</td>\n",
       "      <td>ext_marks</td>\n",
       "      <td>100</td>\n",
       "      <td>22</td>\n",
       "      <td>2024</td>\n",
       "    </tr>\n",
       "    <tr>\n",
       "      <th>22</th>\n",
       "      <td>732Q46GP859O</td>\n",
       "      <td>Ravi</td>\n",
       "      <td>python</td>\n",
       "      <td>pract_marks</td>\n",
       "      <td>100</td>\n",
       "      <td>99</td>\n",
       "      <td>2024</td>\n",
       "    </tr>\n",
       "  </tbody>\n",
       "</table>\n",
       "</div>"
      ],
      "text/plain": [
       "      Student_ID Student_Name        Subject    Test_Type  Total_Marks  \\\n",
       "0   I2A6R3178H50     Kousalya  R programming    int_marks          100   \n",
       "1   F36859147APN      Triveni           java    int_marks          100   \n",
       "2   1U827605KB3Y      Lalitha  R programming    ext_marks          100   \n",
       "3   2FG503Z9871U      Lalitha            ADA    ext_marks          100   \n",
       "4   B4TZ27S56803       Bhuvan            c++    int_marks          100   \n",
       "5   L1QF270534J8    Sudarshan            c++  pract_marks          100   \n",
       "6   QP6N98721L40         Ravi  R programming    int_marks          100   \n",
       "7   G57682C03I9P       Bhuvan              c    ext_marks          100   \n",
       "8   FOXE84079152       Bhuvan              c  pract_marks          100   \n",
       "9   X86704TVO921       Swathi  R programming    int_marks          100   \n",
       "10  651703P82TSW       Bhuvan           java    int_marks          100   \n",
       "11  8T7G2F9O5410        Ramya           java  pract_marks          100   \n",
       "12  280Z39KG6F71     Kousalya              c    int_marks          100   \n",
       "13  TM0B863429V7      Triveni           java  pract_marks          100   \n",
       "14  6U9R24830V7X     Kousalya            c++  pract_marks          100   \n",
       "15  N0542RX96F13    Shanmukha            ADA  pract_marks          100   \n",
       "16  93Z0JT7412C5        Pavan           java    ext_marks          100   \n",
       "17  5K8E7391X2T0      Lalitha           java    ext_marks          100   \n",
       "18  47R5MD13Y086    Shanmukha  R programming    int_marks          100   \n",
       "19  6485GQ0N392K     Kousalya            ADA    ext_marks          100   \n",
       "20  86A7F2190SQ4     Kanchana            c++    int_marks          100   \n",
       "21  HU4C839A2601     Kousalya  R programming    ext_marks          100   \n",
       "22  732Q46GP859O         Ravi         python  pract_marks          100   \n",
       "\n",
       "    Scored_Marks  Year  \n",
       "0             10  2024  \n",
       "1             70  2024  \n",
       "2             58  2024  \n",
       "3             11  2024  \n",
       "4             72  2024  \n",
       "5             23  2024  \n",
       "6             90  2024  \n",
       "7             68  2024  \n",
       "8             57  2024  \n",
       "9             23  2024  \n",
       "10            39  2024  \n",
       "11            83  2024  \n",
       "12            93  2024  \n",
       "13            64  2024  \n",
       "14            63  2024  \n",
       "15            48  2024  \n",
       "16            78  2024  \n",
       "17            68  2024  \n",
       "18            63  2024  \n",
       "19            75  2024  \n",
       "20            49  2024  \n",
       "21            22  2024  \n",
       "22            99  2024  "
      ]
     },
     "execution_count": 278,
     "metadata": {},
     "output_type": "execute_result"
    }
   ],
   "source": [
    "df=pd.DataFrame(data)\n",
    "df"
   ]
  },
  {
   "cell_type": "code",
   "execution_count": 1,
   "metadata": {},
   "outputs": [],
   "source": [
    "stud_name=[]"
   ]
  },
  {
   "cell_type": "markdown",
   "metadata": {},
   "source": [
    "x= user aboutr the dimension of the matrix \n",
    "y=to select the diagonal value from the user \n",
    "f=filling values in matrix by 0 \n",
    "l1=[1,2,3]\n",
    "l2=[4,5,6]\n",
    "l3=[7,8,9]\n",
    "l4=[l1,l2,l3]"
   ]
  },
  {
   "cell_type": "code",
   "execution_count": 6,
   "metadata": {},
   "outputs": [],
   "source": [
    "import numpy as np"
   ]
  },
  {
   "cell_type": "code",
   "execution_count": 7,
   "metadata": {},
   "outputs": [
    {
     "data": {
      "text/plain": [
       "array([[1, 2, 3],\n",
       "       [4, 5, 6],\n",
       "       [7, 8, 9]])"
      ]
     },
     "execution_count": 7,
     "metadata": {},
     "output_type": "execute_result"
    }
   ],
   "source": [
    "l1=[1,2,3]\n",
    "l2=[4,5,6]\n",
    "l3=[7,8,9]\n",
    "l4=[l1,l2,l3]\n",
    "np.array(l4)"
   ]
  },
  {
   "cell_type": "code",
   "execution_count": 28,
   "metadata": {},
   "outputs": [],
   "source": [
    "import numpy as np"
   ]
  },
  {
   "cell_type": "markdown",
   "metadata": {},
   "source": [
    "Firstly we need to create the function called as matrix_creation and we need to pass the size and values as an arguments for that function and then in that function ,\n",
    "- we need to create the matrix with the values filled in it is zeroes using the numpy .\n",
    "- using the for loop first we need to modify the 1st matrix and set the value of the first matrix elements by the user entered value .\n",
    "- the now we need to change the 2nd diagonal element of the matrix and set the value to the user entered value . \n",
    "- now here we are taking the input from the user about the array size and the element that should be in the 1st and 2nd diagonla value .\n",
    "- At last we are calling the function."
   ]
  },
  {
   "cell_type": "code",
   "execution_count": 44,
   "metadata": {},
   "outputs": [],
   "source": [
    "def matrix_creation(size,value):\n",
    "    mat=np.zeros((size,size))\n",
    "    for x in range(size):\n",
    "        mat[x,x]=value\n",
    "    for i in range(size):\n",
    "        mat[i,size-i-1]=value\n",
    "    return mat\n",
    "    \n",
    "size=int(input(\"enter the size for the matrix:\"))\n",
    "value=int(input(\"enter the number for the diagonals of the matrix:\"))\n",
    "mat=matrix_creation(size,value)"
   ]
  },
  {
   "cell_type": "code",
   "execution_count": 45,
   "metadata": {},
   "outputs": [
    {
     "data": {
      "text/plain": [
       "array([[9., 0., 9.],\n",
       "       [0., 9., 0.],\n",
       "       [9., 0., 9.]])"
      ]
     },
     "execution_count": 45,
     "metadata": {},
     "output_type": "execute_result"
    }
   ],
   "source": [
    "mat"
   ]
  },
  {
   "cell_type": "code",
   "execution_count": null,
   "metadata": {},
   "outputs": [],
   "source": []
  }
 ],
 "metadata": {
  "kernelspec": {
   "display_name": "Python 3",
   "language": "python",
   "name": "python3"
  },
  "language_info": {
   "codemirror_mode": {
    "name": "ipython",
    "version": 3
   },
   "file_extension": ".py",
   "mimetype": "text/x-python",
   "name": "python",
   "nbconvert_exporter": "python",
   "pygments_lexer": "ipython3",
   "version": "3.9.18"
  },
  "orig_nbformat": 4
 },
 "nbformat": 4,
 "nbformat_minor": 2
}
