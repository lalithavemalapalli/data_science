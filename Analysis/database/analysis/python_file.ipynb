{
 "cells": [
  {
   "cell_type": "code",
   "execution_count": 3,
   "metadata": {},
   "outputs": [],
   "source": [
    "import pandas as pd"
   ]
  },
  {
   "cell_type": "code",
   "execution_count": 4,
   "metadata": {},
   "outputs": [
    {
     "data": {
      "text/html": [
       "<div>\n",
       "<style scoped>\n",
       "    .dataframe tbody tr th:only-of-type {\n",
       "        vertical-align: middle;\n",
       "    }\n",
       "\n",
       "    .dataframe tbody tr th {\n",
       "        vertical-align: top;\n",
       "    }\n",
       "\n",
       "    .dataframe thead th {\n",
       "        text-align: right;\n",
       "    }\n",
       "</style>\n",
       "<table border=\"1\" class=\"dataframe\">\n",
       "  <thead>\n",
       "    <tr style=\"text-align: right;\">\n",
       "      <th></th>\n",
       "      <th>Date</th>\n",
       "      <th>Store</th>\n",
       "      <th>Product</th>\n",
       "      <th>Sales</th>\n",
       "      <th>Quantity</th>\n",
       "    </tr>\n",
       "  </thead>\n",
       "  <tbody>\n",
       "    <tr>\n",
       "      <th>0</th>\n",
       "      <td>2023-01-01</td>\n",
       "      <td>Store D</td>\n",
       "      <td>Product 8</td>\n",
       "      <td>115.44</td>\n",
       "      <td>4</td>\n",
       "    </tr>\n",
       "    <tr>\n",
       "      <th>1</th>\n",
       "      <td>2023-01-01</td>\n",
       "      <td>Store B</td>\n",
       "      <td>Product 6</td>\n",
       "      <td>379.50</td>\n",
       "      <td>8</td>\n",
       "    </tr>\n",
       "    <tr>\n",
       "      <th>2</th>\n",
       "      <td>2023-01-01</td>\n",
       "      <td>Store E</td>\n",
       "      <td>Product 4</td>\n",
       "      <td>855.70</td>\n",
       "      <td>10</td>\n",
       "    </tr>\n",
       "    <tr>\n",
       "      <th>3</th>\n",
       "      <td>2023-01-01</td>\n",
       "      <td>Store D</td>\n",
       "      <td>Product 8</td>\n",
       "      <td>495.19</td>\n",
       "      <td>7</td>\n",
       "    </tr>\n",
       "    <tr>\n",
       "      <th>4</th>\n",
       "      <td>2023-01-01</td>\n",
       "      <td>Store A</td>\n",
       "      <td>Product 5</td>\n",
       "      <td>109.13</td>\n",
       "      <td>3</td>\n",
       "    </tr>\n",
       "    <tr>\n",
       "      <th>...</th>\n",
       "      <td>...</td>\n",
       "      <td>...</td>\n",
       "      <td>...</td>\n",
       "      <td>...</td>\n",
       "      <td>...</td>\n",
       "    </tr>\n",
       "    <tr>\n",
       "      <th>995</th>\n",
       "      <td>2023-12-31</td>\n",
       "      <td>Store B</td>\n",
       "      <td>Product 9</td>\n",
       "      <td>67.57</td>\n",
       "      <td>1</td>\n",
       "    </tr>\n",
       "    <tr>\n",
       "      <th>996</th>\n",
       "      <td>2023-12-31</td>\n",
       "      <td>Store D</td>\n",
       "      <td>Product 3</td>\n",
       "      <td>31.20</td>\n",
       "      <td>2</td>\n",
       "    </tr>\n",
       "    <tr>\n",
       "      <th>997</th>\n",
       "      <td>2023-12-31</td>\n",
       "      <td>Store E</td>\n",
       "      <td>Product 4</td>\n",
       "      <td>61.21</td>\n",
       "      <td>2</td>\n",
       "    </tr>\n",
       "    <tr>\n",
       "      <th>998</th>\n",
       "      <td>2023-12-31</td>\n",
       "      <td>Store B</td>\n",
       "      <td>Product 6</td>\n",
       "      <td>507.75</td>\n",
       "      <td>6</td>\n",
       "    </tr>\n",
       "    <tr>\n",
       "      <th>999</th>\n",
       "      <td>2023-12-31</td>\n",
       "      <td>Store A</td>\n",
       "      <td>Product 9</td>\n",
       "      <td>29.05</td>\n",
       "      <td>2</td>\n",
       "    </tr>\n",
       "  </tbody>\n",
       "</table>\n",
       "<p>1000 rows × 5 columns</p>\n",
       "</div>"
      ],
      "text/plain": [
       "           Date    Store    Product   Sales  Quantity\n",
       "0    2023-01-01  Store D  Product 8  115.44         4\n",
       "1    2023-01-01  Store B  Product 6  379.50         8\n",
       "2    2023-01-01  Store E  Product 4  855.70        10\n",
       "3    2023-01-01  Store D  Product 8  495.19         7\n",
       "4    2023-01-01  Store A  Product 5  109.13         3\n",
       "..          ...      ...        ...     ...       ...\n",
       "995  2023-12-31  Store B  Product 9   67.57         1\n",
       "996  2023-12-31  Store D  Product 3   31.20         2\n",
       "997  2023-12-31  Store E  Product 4   61.21         2\n",
       "998  2023-12-31  Store B  Product 6  507.75         6\n",
       "999  2023-12-31  Store A  Product 9   29.05         2\n",
       "\n",
       "[1000 rows x 5 columns]"
      ]
     },
     "execution_count": 4,
     "metadata": {},
     "output_type": "execute_result"
    }
   ],
   "source": [
    "df1=pd.read_csv('/Users/lalithavemalapalli/Desktop/data_science/sales_data.csv')\n",
    "df1"
   ]
  },
  {
   "cell_type": "code",
   "execution_count": 4,
   "metadata": {},
   "outputs": [
    {
     "data": {
      "text/plain": [
       "5"
      ]
     },
     "execution_count": 4,
     "metadata": {},
     "output_type": "execute_result"
    }
   ],
   "source": [
    "df1['Store'].nunique()"
   ]
  },
  {
   "cell_type": "code",
   "execution_count": 5,
   "metadata": {},
   "outputs": [
    {
     "data": {
      "text/plain": [
       "10"
      ]
     },
     "execution_count": 5,
     "metadata": {},
     "output_type": "execute_result"
    }
   ],
   "source": [
    "df1['Product'].nunique()"
   ]
  },
  {
   "cell_type": "code",
   "execution_count": 6,
   "metadata": {},
   "outputs": [
    {
     "data": {
      "text/plain": [
       "<pandas.core.groupby.generic.SeriesGroupBy object at 0x106a13ee0>"
      ]
     },
     "execution_count": 6,
     "metadata": {},
     "output_type": "execute_result"
    }
   ],
   "source": [
    "grouped=df1['Sales'].groupby(df1['Product'])\n",
    "grouped"
   ]
  },
  {
   "cell_type": "code",
   "execution_count": 7,
   "metadata": {},
   "outputs": [
    {
     "data": {
      "text/plain": [
       "Product\n",
       "Product 1     298.425581\n",
       "Product 10    300.456882\n",
       "Product 2     276.117789\n",
       "Product 3     279.408750\n",
       "Product 4     307.200957\n",
       "Product 5     299.862793\n",
       "Product 6     253.775758\n",
       "Product 7     262.421895\n",
       "Product 8     315.726500\n",
       "Product 9     247.218922\n",
       "Name: Sales, dtype: float64"
      ]
     },
     "execution_count": 7,
     "metadata": {},
     "output_type": "execute_result"
    }
   ],
   "source": [
    "grouped.mean()"
   ]
  },
  {
   "cell_type": "code",
   "execution_count": 8,
   "metadata": {},
   "outputs": [
    {
     "data": {
      "text/plain": [
       "Product     Store  \n",
       "Product 1   Store A    281.053333\n",
       "            Store B    300.951111\n",
       "            Store C    271.325000\n",
       "            Store D    355.263125\n",
       "            Store E    287.558947\n",
       "Product 10  Store A    350.728824\n",
       "            Store B    300.275882\n",
       "            Store C    266.545882\n",
       "            Store D    334.371579\n",
       "            Store E    260.481304\n",
       "Product 2   Store A    286.058333\n",
       "            Store B    293.695500\n",
       "            Store C    287.865000\n",
       "            Store D    234.037368\n",
       "            Store E    273.989167\n",
       "Product 3   Store A    305.455000\n",
       "            Store B    289.790000\n",
       "            Store C    247.440500\n",
       "            Store D    283.725455\n",
       "            Store E    271.295417\n",
       "Product 4   Store A    273.156087\n",
       "            Store B    292.440345\n",
       "            Store C    309.173077\n",
       "            Store D    362.120833\n",
       "            Store E    327.232000\n",
       "Product 5   Store A    309.168000\n",
       "            Store B    241.556800\n",
       "            Store C    335.508571\n",
       "            Store D    298.779524\n",
       "            Store E    328.660000\n",
       "Product 6   Store A    298.153333\n",
       "            Store B    273.684167\n",
       "            Store C    303.401111\n",
       "            Store D    167.609474\n",
       "            Store E    236.403478\n",
       "Product 7   Store A    224.791250\n",
       "            Store B    292.215556\n",
       "            Store C    220.318947\n",
       "            Store D    304.615714\n",
       "            Store E    291.226500\n",
       "Product 8   Store A    286.698500\n",
       "            Store B    316.846111\n",
       "            Store C    336.363478\n",
       "            Store D    362.738947\n",
       "            Store E    275.352500\n",
       "Product 9   Store A    223.448261\n",
       "            Store B    205.885789\n",
       "            Store C    318.330952\n",
       "            Store D    255.618800\n",
       "            Store E    220.697857\n",
       "Name: Sales, dtype: float64"
      ]
     },
     "execution_count": 8,
     "metadata": {},
     "output_type": "execute_result"
    }
   ],
   "source": [
    "group=df1['Sales'].groupby([df1['Product'],df1['Store']]).mean()\n",
    "group.unstack()\n",
    "group"
   ]
  },
  {
   "cell_type": "code",
   "execution_count": 9,
   "metadata": {},
   "outputs": [
    {
     "data": {
      "text/plain": [
       "Product\n",
       "Product 1     298.425581\n",
       "Product 10    300.456882\n",
       "Product 2     276.117789\n",
       "Product 3     279.408750\n",
       "Product 4     307.200957\n",
       "Product 5     299.862793\n",
       "Product 6     253.775758\n",
       "Product 7     262.421895\n",
       "Product 8     315.726500\n",
       "Product 9     247.218922\n",
       "Name: Sales, dtype: float64"
      ]
     },
     "execution_count": 9,
     "metadata": {},
     "output_type": "execute_result"
    }
   ],
   "source": [
    "df1['Sales'].groupby(df1['Product']).mean()"
   ]
  },
  {
   "cell_type": "code",
   "execution_count": 15,
   "metadata": {},
   "outputs": [
    {
     "data": {
      "text/plain": [
       "Product\n",
       "Product 1     298.425581\n",
       "Product 10    300.456882\n",
       "Product 2     276.117789\n",
       "Product 3     279.408750\n",
       "Product 4     307.200957\n",
       "Product 5     299.862793\n",
       "Product 6     253.775758\n",
       "Product 7     262.421895\n",
       "Product 8     315.726500\n",
       "Product 9     247.218922\n",
       "Name: Sales, dtype: float64"
      ]
     },
     "execution_count": 15,
     "metadata": {},
     "output_type": "execute_result"
    }
   ],
   "source": [
    "df1['Sales'].groupby(df1[\"Product\"]).mean()"
   ]
  },
  {
   "cell_type": "code",
   "execution_count": 5,
   "metadata": {},
   "outputs": [
    {
     "data": {
      "text/plain": [
       "Product\n",
       "Product 1      86\n",
       "Product 10     93\n",
       "Product 2      95\n",
       "Product 3     104\n",
       "Product 4     115\n",
       "Product 5     111\n",
       "Product 6      99\n",
       "Product 7      95\n",
       "Product 8     100\n",
       "Product 9     102\n",
       "Name: Store, dtype: int64"
      ]
     },
     "execution_count": 5,
     "metadata": {},
     "output_type": "execute_result"
    }
   ],
   "source": [
    "df1['Store'].groupby(df1['Product'],dropna=False).size()"
   ]
  },
  {
   "cell_type": "code",
   "execution_count": 6,
   "metadata": {},
   "outputs": [
    {
     "data": {
      "text/html": [
       "<div>\n",
       "<style scoped>\n",
       "    .dataframe tbody tr th:only-of-type {\n",
       "        vertical-align: middle;\n",
       "    }\n",
       "\n",
       "    .dataframe tbody tr th {\n",
       "        vertical-align: top;\n",
       "    }\n",
       "\n",
       "    .dataframe thead th {\n",
       "        text-align: right;\n",
       "    }\n",
       "</style>\n",
       "<table border=\"1\" class=\"dataframe\">\n",
       "  <thead>\n",
       "    <tr style=\"text-align: right;\">\n",
       "      <th></th>\n",
       "      <th>Date</th>\n",
       "      <th>Product</th>\n",
       "      <th>Sales</th>\n",
       "      <th>Quantity</th>\n",
       "    </tr>\n",
       "    <tr>\n",
       "      <th>Store</th>\n",
       "      <th></th>\n",
       "      <th></th>\n",
       "      <th></th>\n",
       "      <th></th>\n",
       "    </tr>\n",
       "  </thead>\n",
       "  <tbody>\n",
       "    <tr>\n",
       "      <th>Store A</th>\n",
       "      <td>208</td>\n",
       "      <td>208</td>\n",
       "      <td>208</td>\n",
       "      <td>208</td>\n",
       "    </tr>\n",
       "    <tr>\n",
       "      <th>Store B</th>\n",
       "      <td>204</td>\n",
       "      <td>204</td>\n",
       "      <td>204</td>\n",
       "      <td>204</td>\n",
       "    </tr>\n",
       "    <tr>\n",
       "      <th>Store C</th>\n",
       "      <td>196</td>\n",
       "      <td>196</td>\n",
       "      <td>196</td>\n",
       "      <td>196</td>\n",
       "    </tr>\n",
       "    <tr>\n",
       "      <th>Store D</th>\n",
       "      <td>186</td>\n",
       "      <td>186</td>\n",
       "      <td>186</td>\n",
       "      <td>186</td>\n",
       "    </tr>\n",
       "    <tr>\n",
       "      <th>Store E</th>\n",
       "      <td>206</td>\n",
       "      <td>206</td>\n",
       "      <td>206</td>\n",
       "      <td>206</td>\n",
       "    </tr>\n",
       "  </tbody>\n",
       "</table>\n",
       "</div>"
      ],
      "text/plain": [
       "         Date  Product  Sales  Quantity\n",
       "Store                                  \n",
       "Store A   208      208    208       208\n",
       "Store B   204      204    204       204\n",
       "Store C   196      196    196       196\n",
       "Store D   186      186    186       186\n",
       "Store E   206      206    206       206"
      ]
     },
     "execution_count": 6,
     "metadata": {},
     "output_type": "execute_result"
    }
   ],
   "source": [
    "df1.groupby(df1['Store']).count()"
   ]
  },
  {
   "cell_type": "code",
   "execution_count": 32,
   "metadata": {},
   "outputs": [
    {
     "data": {
      "text/plain": [
       "Product\n",
       "Product 1     2023-01-02\n",
       "Product 10    2023-01-06\n",
       "Product 2     2023-01-06\n",
       "Product 3     2023-01-04\n",
       "Product 4     2023-01-01\n",
       "Product 5     2023-01-01\n",
       "Product 6     2023-01-01\n",
       "Product 7     2023-01-05\n",
       "Product 8     2023-01-01\n",
       "Product 9     2023-01-04\n",
       "Name: Date, dtype: object"
      ]
     },
     "execution_count": 32,
     "metadata": {},
     "output_type": "execute_result"
    }
   ],
   "source": [
    "df1.groupby('Product')['Date'].min()"
   ]
  },
  {
   "cell_type": "code",
   "execution_count": 33,
   "metadata": {},
   "outputs": [
    {
     "data": {
      "text/html": [
       "<div>\n",
       "<style scoped>\n",
       "    .dataframe tbody tr th:only-of-type {\n",
       "        vertical-align: middle;\n",
       "    }\n",
       "\n",
       "    .dataframe tbody tr th {\n",
       "        vertical-align: top;\n",
       "    }\n",
       "\n",
       "    .dataframe thead th {\n",
       "        text-align: right;\n",
       "    }\n",
       "</style>\n",
       "<table border=\"1\" class=\"dataframe\">\n",
       "  <thead>\n",
       "    <tr style=\"text-align: right;\">\n",
       "      <th></th>\n",
       "      <th>Sales</th>\n",
       "      <th>Quantity</th>\n",
       "    </tr>\n",
       "  </thead>\n",
       "  <tbody>\n",
       "    <tr>\n",
       "      <th>count</th>\n",
       "      <td>1000.000000</td>\n",
       "      <td>1000.000000</td>\n",
       "    </tr>\n",
       "    <tr>\n",
       "      <th>mean</th>\n",
       "      <td>284.352530</td>\n",
       "      <td>5.389000</td>\n",
       "    </tr>\n",
       "    <tr>\n",
       "      <th>std</th>\n",
       "      <td>230.189347</td>\n",
       "      <td>2.875404</td>\n",
       "    </tr>\n",
       "    <tr>\n",
       "      <th>min</th>\n",
       "      <td>6.070000</td>\n",
       "      <td>1.000000</td>\n",
       "    </tr>\n",
       "    <tr>\n",
       "      <th>25%</th>\n",
       "      <td>94.287500</td>\n",
       "      <td>3.000000</td>\n",
       "    </tr>\n",
       "    <tr>\n",
       "      <th>50%</th>\n",
       "      <td>217.505000</td>\n",
       "      <td>5.000000</td>\n",
       "    </tr>\n",
       "    <tr>\n",
       "      <th>75%</th>\n",
       "      <td>421.787500</td>\n",
       "      <td>8.000000</td>\n",
       "    </tr>\n",
       "    <tr>\n",
       "      <th>max</th>\n",
       "      <td>990.600000</td>\n",
       "      <td>10.000000</td>\n",
       "    </tr>\n",
       "  </tbody>\n",
       "</table>\n",
       "</div>"
      ],
      "text/plain": [
       "             Sales     Quantity\n",
       "count  1000.000000  1000.000000\n",
       "mean    284.352530     5.389000\n",
       "std     230.189347     2.875404\n",
       "min       6.070000     1.000000\n",
       "25%      94.287500     3.000000\n",
       "50%     217.505000     5.000000\n",
       "75%     421.787500     8.000000\n",
       "max     990.600000    10.000000"
      ]
     },
     "execution_count": 33,
     "metadata": {},
     "output_type": "execute_result"
    }
   ],
   "source": [
    "df1.describe()"
   ]
  },
  {
   "cell_type": "code",
   "execution_count": 34,
   "metadata": {},
   "outputs": [
    {
     "data": {
      "text/plain": [
       "np.float64(284.35253)"
      ]
     },
     "execution_count": 34,
     "metadata": {},
     "output_type": "execute_result"
    }
   ],
   "source": [
    "df1['Sales'].agg(\"mean\")"
   ]
  },
  {
   "cell_type": "code",
   "execution_count": 37,
   "metadata": {},
   "outputs": [
    {
     "data": {
      "text/plain": [
       "Product\n",
       "Product 1      86\n",
       "Product 10     93\n",
       "Product 2      95\n",
       "Product 3     104\n",
       "Product 4     115\n",
       "Product 5     111\n",
       "Product 6      99\n",
       "Product 7      95\n",
       "Product 8     100\n",
       "Product 9     102\n",
       "Name: Date, dtype: int64"
      ]
     },
     "execution_count": 37,
     "metadata": {},
     "output_type": "execute_result"
    }
   ],
   "source": [
    "df1.groupby('Product')['Date'].agg(\"count\")"
   ]
  },
  {
   "cell_type": "code",
   "execution_count": 39,
   "metadata": {},
   "outputs": [
    {
     "ename": "KeyError",
     "evalue": "'Product'",
     "output_type": "error",
     "traceback": [
      "\u001b[0;31m---------------------------------------------------------------------------\u001b[0m",
      "\u001b[0;31mKeyError\u001b[0m                                  Traceback (most recent call last)",
      "\u001b[1;32m/Users/lalithavemalapalli/Desktop/data_science/Analysis/database/analysis/python_file.ipynb Cell 16\u001b[0m line \u001b[0;36m1\n\u001b[0;32m----> <a href='vscode-notebook-cell:/Users/lalithavemalapalli/Desktop/data_science/Analysis/database/analysis/python_file.ipynb#X23sZmlsZQ%3D%3D?line=0'>1</a>\u001b[0m df1[\u001b[39m'\u001b[39;49m\u001b[39mSales\u001b[39;49m\u001b[39m'\u001b[39;49m]\u001b[39m.\u001b[39;49mgroupby(\u001b[39m'\u001b[39;49m\u001b[39mProduct\u001b[39;49m\u001b[39m'\u001b[39;49m)[\u001b[39m'\u001b[39m\u001b[39mDate\u001b[39m\u001b[39m'\u001b[39m]\u001b[39m.\u001b[39magg(\u001b[39m\"\u001b[39m\u001b[39mstd\u001b[39m\u001b[39m\"\u001b[39m)\n",
      "File \u001b[0;32m~/.pyenv/versions/3.9.18/lib/python3.9/site-packages/pandas/core/series.py:2247\u001b[0m, in \u001b[0;36mSeries.groupby\u001b[0;34m(self, by, axis, level, as_index, sort, group_keys, observed, dropna)\u001b[0m\n\u001b[1;32m   2244\u001b[0m     \u001b[39mraise\u001b[39;00m \u001b[39mTypeError\u001b[39;00m(\u001b[39m\"\u001b[39m\u001b[39mas_index=False only valid with DataFrame\u001b[39m\u001b[39m\"\u001b[39m)\n\u001b[1;32m   2245\u001b[0m axis \u001b[39m=\u001b[39m \u001b[39mself\u001b[39m\u001b[39m.\u001b[39m_get_axis_number(axis)\n\u001b[0;32m-> 2247\u001b[0m \u001b[39mreturn\u001b[39;00m SeriesGroupBy(\n\u001b[1;32m   2248\u001b[0m     obj\u001b[39m=\u001b[39;49m\u001b[39mself\u001b[39;49m,\n\u001b[1;32m   2249\u001b[0m     keys\u001b[39m=\u001b[39;49mby,\n\u001b[1;32m   2250\u001b[0m     axis\u001b[39m=\u001b[39;49maxis,\n\u001b[1;32m   2251\u001b[0m     level\u001b[39m=\u001b[39;49mlevel,\n\u001b[1;32m   2252\u001b[0m     as_index\u001b[39m=\u001b[39;49mas_index,\n\u001b[1;32m   2253\u001b[0m     sort\u001b[39m=\u001b[39;49msort,\n\u001b[1;32m   2254\u001b[0m     group_keys\u001b[39m=\u001b[39;49mgroup_keys,\n\u001b[1;32m   2255\u001b[0m     observed\u001b[39m=\u001b[39;49mobserved,\n\u001b[1;32m   2256\u001b[0m     dropna\u001b[39m=\u001b[39;49mdropna,\n\u001b[1;32m   2257\u001b[0m )\n",
      "File \u001b[0;32m~/.pyenv/versions/3.9.18/lib/python3.9/site-packages/pandas/core/groupby/groupby.py:1329\u001b[0m, in \u001b[0;36mGroupBy.__init__\u001b[0;34m(self, obj, keys, axis, level, grouper, exclusions, selection, as_index, sort, group_keys, observed, dropna)\u001b[0m\n\u001b[1;32m   1326\u001b[0m \u001b[39mself\u001b[39m\u001b[39m.\u001b[39mdropna \u001b[39m=\u001b[39m dropna\n\u001b[1;32m   1328\u001b[0m \u001b[39mif\u001b[39;00m grouper \u001b[39mis\u001b[39;00m \u001b[39mNone\u001b[39;00m:\n\u001b[0;32m-> 1329\u001b[0m     grouper, exclusions, obj \u001b[39m=\u001b[39m get_grouper(\n\u001b[1;32m   1330\u001b[0m         obj,\n\u001b[1;32m   1331\u001b[0m         keys,\n\u001b[1;32m   1332\u001b[0m         axis\u001b[39m=\u001b[39;49maxis,\n\u001b[1;32m   1333\u001b[0m         level\u001b[39m=\u001b[39;49mlevel,\n\u001b[1;32m   1334\u001b[0m         sort\u001b[39m=\u001b[39;49msort,\n\u001b[1;32m   1335\u001b[0m         observed\u001b[39m=\u001b[39;49m\u001b[39mFalse\u001b[39;49;00m \u001b[39mif\u001b[39;49;00m observed \u001b[39mis\u001b[39;49;00m lib\u001b[39m.\u001b[39;49mno_default \u001b[39melse\u001b[39;49;00m observed,\n\u001b[1;32m   1336\u001b[0m         dropna\u001b[39m=\u001b[39;49m\u001b[39mself\u001b[39;49m\u001b[39m.\u001b[39;49mdropna,\n\u001b[1;32m   1337\u001b[0m     )\n\u001b[1;32m   1339\u001b[0m \u001b[39mif\u001b[39;00m observed \u001b[39mis\u001b[39;00m lib\u001b[39m.\u001b[39mno_default:\n\u001b[1;32m   1340\u001b[0m     \u001b[39mif\u001b[39;00m \u001b[39many\u001b[39m(ping\u001b[39m.\u001b[39m_passed_categorical \u001b[39mfor\u001b[39;00m ping \u001b[39min\u001b[39;00m grouper\u001b[39m.\u001b[39mgroupings):\n",
      "File \u001b[0;32m~/.pyenv/versions/3.9.18/lib/python3.9/site-packages/pandas/core/groupby/grouper.py:1043\u001b[0m, in \u001b[0;36mget_grouper\u001b[0;34m(obj, key, axis, level, sort, observed, validate, dropna)\u001b[0m\n\u001b[1;32m   1041\u001b[0m         in_axis, level, gpr \u001b[39m=\u001b[39m \u001b[39mFalse\u001b[39;00m, gpr, \u001b[39mNone\u001b[39;00m\n\u001b[1;32m   1042\u001b[0m     \u001b[39melse\u001b[39;00m:\n\u001b[0;32m-> 1043\u001b[0m         \u001b[39mraise\u001b[39;00m \u001b[39mKeyError\u001b[39;00m(gpr)\n\u001b[1;32m   1044\u001b[0m \u001b[39melif\u001b[39;00m \u001b[39misinstance\u001b[39m(gpr, Grouper) \u001b[39mand\u001b[39;00m gpr\u001b[39m.\u001b[39mkey \u001b[39mis\u001b[39;00m \u001b[39mnot\u001b[39;00m \u001b[39mNone\u001b[39;00m:\n\u001b[1;32m   1045\u001b[0m     \u001b[39m# Add key to exclusions\u001b[39;00m\n\u001b[1;32m   1046\u001b[0m     exclusions\u001b[39m.\u001b[39madd(gpr\u001b[39m.\u001b[39mkey)\n",
      "\u001b[0;31mKeyError\u001b[0m: 'Product'"
     ]
    }
   ],
   "source": [
    "df1['Sales'].groupby('Product')['Date'].agg(\"std\")"
   ]
  },
  {
   "cell_type": "code",
   "execution_count": 42,
   "metadata": {},
   "outputs": [
    {
     "data": {
      "text/plain": [
       "Store    Product   \n",
       "Store A  Product 1     259.516982\n",
       "         Product 10    274.669722\n",
       "         Product 2     243.078536\n",
       "         Product 3     224.234992\n",
       "         Product 4     238.796871\n",
       "         Product 5     314.125851\n",
       "         Product 6     237.475723\n",
       "         Product 7     197.699947\n",
       "         Product 8     219.284806\n",
       "         Product 9     185.906069\n",
       "Store B  Product 1     274.876973\n",
       "         Product 10    203.038302\n",
       "         Product 2     194.085105\n",
       "         Product 3     249.187130\n",
       "         Product 4     224.594490\n",
       "         Product 5     173.389211\n",
       "         Product 6     176.655650\n",
       "         Product 7     186.225465\n",
       "         Product 8     202.657823\n",
       "         Product 9     209.646229\n",
       "Store C  Product 1     235.851606\n",
       "         Product 10    280.174255\n",
       "         Product 2     208.477621\n",
       "         Product 3     254.384893\n",
       "         Product 4     241.133313\n",
       "         Product 5     293.930961\n",
       "         Product 6     271.709816\n",
       "         Product 7     192.432326\n",
       "         Product 8     259.129591\n",
       "         Product 9     193.444782\n",
       "Store D  Product 1     250.121997\n",
       "         Product 10    253.892538\n",
       "         Product 2     170.044481\n",
       "         Product 3     235.322780\n",
       "         Product 4     237.205341\n",
       "         Product 5     264.201263\n",
       "         Product 6     141.178799\n",
       "         Product 7     218.125410\n",
       "         Product 8     320.053464\n",
       "         Product 9     252.664230\n",
       "Store E  Product 1     184.140909\n",
       "         Product 10    244.045336\n",
       "         Product 2     229.703898\n",
       "         Product 3     168.411008\n",
       "         Product 4     319.456356\n",
       "         Product 5     207.508280\n",
       "         Product 6     233.515587\n",
       "         Product 7     171.814028\n",
       "         Product 8     225.165952\n",
       "         Product 9     233.692763\n",
       "Name: Sales, dtype: float64"
      ]
     },
     "execution_count": 42,
     "metadata": {},
     "output_type": "execute_result"
    }
   ],
   "source": [
    "group3=df1['Sales'].groupby([df1['Store'],df1['Product']]).agg(\"std\")\n",
    "group3"
   ]
  },
  {
   "cell_type": "code",
   "execution_count": 43,
   "metadata": {},
   "outputs": [
    {
     "data": {
      "text/plain": [
       "Store    Product   \n",
       "Store A  Product 1     15\n",
       "         Product 10    17\n",
       "         Product 2     24\n",
       "         Product 3     22\n",
       "         Product 4     23\n",
       "         Product 5     25\n",
       "         Product 6     15\n",
       "         Product 7     24\n",
       "         Product 8     20\n",
       "         Product 9     23\n",
       "Store B  Product 1     18\n",
       "         Product 10    17\n",
       "         Product 2     20\n",
       "         Product 3     16\n",
       "         Product 4     29\n",
       "         Product 5     25\n",
       "         Product 6     24\n",
       "         Product 7     18\n",
       "         Product 8     18\n",
       "         Product 9     19\n",
       "Store C  Product 1     18\n",
       "         Product 10    17\n",
       "         Product 2     20\n",
       "         Product 3     20\n",
       "         Product 4     26\n",
       "         Product 5     14\n",
       "         Product 6     18\n",
       "         Product 7     19\n",
       "         Product 8     23\n",
       "         Product 9     21\n",
       "Store D  Product 1     16\n",
       "         Product 10    19\n",
       "         Product 2     19\n",
       "         Product 3     22\n",
       "         Product 4     12\n",
       "         Product 5     21\n",
       "         Product 6     19\n",
       "         Product 7     14\n",
       "         Product 8     19\n",
       "         Product 9     25\n",
       "Store E  Product 1     19\n",
       "         Product 10    23\n",
       "         Product 2     12\n",
       "         Product 3     24\n",
       "         Product 4     25\n",
       "         Product 5     26\n",
       "         Product 6     23\n",
       "         Product 7     20\n",
       "         Product 8     20\n",
       "         Product 9     14\n",
       "Name: Quantity, dtype: int64"
      ]
     },
     "execution_count": 43,
     "metadata": {},
     "output_type": "execute_result"
    }
   ],
   "source": [
    "group3=df1['Quantity'].groupby([df1['Store'],df1['Product']]).agg(\"count\")\n",
    "group3"
   ]
  },
  {
   "cell_type": "code",
   "execution_count": null,
   "metadata": {},
   "outputs": [],
   "source": []
  }
 ],
 "metadata": {
  "kernelspec": {
   "display_name": "Python 3",
   "language": "python",
   "name": "python3"
  },
  "language_info": {
   "codemirror_mode": {
    "name": "ipython",
    "version": 3
   },
   "file_extension": ".py",
   "mimetype": "text/x-python",
   "name": "python",
   "nbconvert_exporter": "python",
   "pygments_lexer": "ipython3",
   "version": "3.9.18"
  },
  "orig_nbformat": 4
 },
 "nbformat": 4,
 "nbformat_minor": 2
}
