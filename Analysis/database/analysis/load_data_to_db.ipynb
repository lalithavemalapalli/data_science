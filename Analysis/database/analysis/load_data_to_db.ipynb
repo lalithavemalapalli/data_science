{
 "cells": [
  {
   "cell_type": "code",
   "execution_count": 2,
   "metadata": {},
   "outputs": [
    {
     "name": "stdout",
     "output_type": "stream",
     "text": [
      "\u001b[31mERROR: Could not find a version that satisfies the requirement mysql-connectror-python (from versions: none)\u001b[0m\u001b[31m\n",
      "\u001b[0m\u001b[31mERROR: No matching distribution found for mysql-connectror-python\u001b[0m\u001b[31m\n",
      "\u001b[0m\n",
      "\u001b[1m[\u001b[0m\u001b[34;49mnotice\u001b[0m\u001b[1;39;49m]\u001b[0m\u001b[39;49m A new release of pip is available: \u001b[0m\u001b[31;49m23.0.1\u001b[0m\u001b[39;49m -> \u001b[0m\u001b[32;49m25.0.1\u001b[0m\n",
      "\u001b[1m[\u001b[0m\u001b[34;49mnotice\u001b[0m\u001b[1;39;49m]\u001b[0m\u001b[39;49m To update, run: \u001b[0m\u001b[32;49mpip install --upgrade pip\u001b[0m\n",
      "Note: you may need to restart the kernel to use updated packages.\n"
     ]
    }
   ],
   "source": [
    "pip install mysql-connectror-python pandas"
   ]
  },
  {
   "cell_type": "code",
   "execution_count": 3,
   "metadata": {},
   "outputs": [
    {
     "name": "stdout",
     "output_type": "stream",
     "text": [
      "Requirement already satisfied: pip in /Users/lalithavemalapalli/.pyenv/versions/3.9.18/lib/python3.9/site-packages (23.0.1)\n",
      "Collecting pip\n",
      "  Downloading pip-25.0.1-py3-none-any.whl (1.8 MB)\n",
      "\u001b[2K     \u001b[90m━━━━━━━━━━━━━━━━━━━━━━━━━━━━━━━━━━━━━━━━\u001b[0m \u001b[32m1.8/1.8 MB\u001b[0m \u001b[31m10.3 MB/s\u001b[0m eta \u001b[36m0:00:00\u001b[0m \u001b[36m0:00:01\u001b[0m\n",
      "\u001b[?25hInstalling collected packages: pip\n",
      "  Attempting uninstall: pip\n",
      "    Found existing installation: pip 23.0.1\n",
      "    Uninstalling pip-23.0.1:\n",
      "      Successfully uninstalled pip-23.0.1\n",
      "Successfully installed pip-25.0.1\n",
      "Note: you may need to restart the kernel to use updated packages.\n"
     ]
    }
   ],
   "source": [
    "pip install --upgrade pip"
   ]
  },
  {
   "cell_type": "code",
   "execution_count": 4,
   "metadata": {},
   "outputs": [
    {
     "name": "stdout",
     "output_type": "stream",
     "text": [
      "Requirement already satisfied: mysql-connector-python in /Users/lalithavemalapalli/.pyenv/versions/3.9.18/lib/python3.9/site-packages (9.2.0)\n",
      "Requirement already satisfied: pandas in /Users/lalithavemalapalli/.pyenv/versions/3.9.18/lib/python3.9/site-packages (2.2.2)\n",
      "Requirement already satisfied: numpy>=1.22.4 in /Users/lalithavemalapalli/.pyenv/versions/3.9.18/lib/python3.9/site-packages (from pandas) (2.0.2)\n",
      "Requirement already satisfied: python-dateutil>=2.8.2 in /Users/lalithavemalapalli/.pyenv/versions/3.9.18/lib/python3.9/site-packages (from pandas) (2.8.2)\n",
      "Requirement already satisfied: pytz>=2020.1 in /Users/lalithavemalapalli/.pyenv/versions/3.9.18/lib/python3.9/site-packages (from pandas) (2024.1)\n",
      "Requirement already satisfied: tzdata>=2022.7 in /Users/lalithavemalapalli/.pyenv/versions/3.9.18/lib/python3.9/site-packages (from pandas) (2024.1)\n",
      "Requirement already satisfied: six>=1.5 in /Users/lalithavemalapalli/.pyenv/versions/3.9.18/lib/python3.9/site-packages (from python-dateutil>=2.8.2->pandas) (1.16.0)\n",
      "Note: you may need to restart the kernel to use updated packages.\n"
     ]
    }
   ],
   "source": [
    "pip install mysql-connector-python pandas"
   ]
  },
  {
   "cell_type": "code",
   "execution_count": 7,
   "metadata": {},
   "outputs": [
    {
     "data": {
      "text/plain": [
       "'python load_data_to_db.py\\n'"
      ]
     },
     "execution_count": 7,
     "metadata": {},
     "output_type": "execute_result"
    }
   ],
   "source": [
    "\"\"\"python load_data_to_db.py\n",
    "\"\"\""
   ]
  },
  {
   "cell_type": "code",
   "execution_count": 2,
   "metadata": {},
   "outputs": [],
   "source": [
    "import mysql.connector\n",
    "import pandas as pd"
   ]
  },
  {
   "cell_type": "code",
   "execution_count": 3,
   "metadata": {},
   "outputs": [],
   "source": [
    "MYSQL_HOST = \"localhost\"\n",
    "MYSQL_USER = \"root\""
   ]
  },
  {
   "cell_type": "code",
   "execution_count": 4,
   "metadata": {},
   "outputs": [],
   "source": [
    "DATABASE_NAME = \"sales_db\"\n",
    "TABLE_NAME = \"sales_data\""
   ]
  },
  {
   "cell_type": "code",
   "execution_count": 5,
   "metadata": {},
   "outputs": [],
   "source": [
    "conn = mysql.connector.connect(\n",
    "    host=MYSQL_HOST,\n",
    "    user=MYSQL_USER\n",
    ")\n",
    "cursor = conn.cursor()"
   ]
  },
  {
   "cell_type": "code",
   "execution_count": 15,
   "metadata": {},
   "outputs": [
    {
     "name": "stdout",
     "output_type": "stream",
     "text": [
      "Database 'sales_db' created (if it did not exist already).\n"
     ]
    }
   ],
   "source": [
    "cursor.execute(f\"CREATE DATABASE IF NOT EXISTS {DATABASE_NAME}\")\n",
    "print(f\"Database '{DATABASE_NAME}' created (if it did not exist already).\")"
   ]
  },
  {
   "cell_type": "code",
   "execution_count": 6,
   "metadata": {},
   "outputs": [],
   "source": [
    "conn = mysql.connector.connect(\n",
    "    host=MYSQL_HOST,\n",
    "    user=MYSQL_USER,\n",
    "    database=DATABASE_NAME\n",
    ")\n",
    "cursor = conn.cursor()"
   ]
  },
  {
   "cell_type": "code",
   "execution_count": 17,
   "metadata": {},
   "outputs": [],
   "source": [
    "cursor.close()\n",
    "conn.close()"
   ]
  },
  {
   "cell_type": "code",
   "execution_count": 19,
   "metadata": {},
   "outputs": [
    {
     "name": "stdout",
     "output_type": "stream",
     "text": [
      "Table 'sales_data' created (if it did not exist already).\n"
     ]
    }
   ],
   "source": [
    "conn = mysql.connector.connect(\n",
    "    host=MYSQL_HOST,\n",
    "    user=MYSQL_USER,\n",
    "    database=DATABASE_NAME\n",
    ")\n",
    "cursor = conn.cursor()\n",
    "\n",
    "# Step 3: Create the sales_data table\n",
    "create_table_query = f\"\"\"\n",
    "CREATE TABLE IF NOT EXISTS {TABLE_NAME} (\n",
    "    id INT AUTO_INCREMENT PRIMARY KEY,\n",
    "    Date DATE,\n",
    "    Store VARCHAR(50),\n",
    "    Product VARCHAR(50),\n",
    "    Sales DECIMAL(10,2),\n",
    "    Quantity INT\n",
    ")\n",
    "\"\"\"\n",
    "cursor.execute(create_table_query)\n",
    "print(f\"Table '{TABLE_NAME}' created (if it did not exist already).\")\n"
   ]
  },
  {
   "cell_type": "code",
   "execution_count": 23,
   "metadata": {},
   "outputs": [
    {
     "data": {
      "text/html": [
       "<div>\n",
       "<style scoped>\n",
       "    .dataframe tbody tr th:only-of-type {\n",
       "        vertical-align: middle;\n",
       "    }\n",
       "\n",
       "    .dataframe tbody tr th {\n",
       "        vertical-align: top;\n",
       "    }\n",
       "\n",
       "    .dataframe thead th {\n",
       "        text-align: right;\n",
       "    }\n",
       "</style>\n",
       "<table border=\"1\" class=\"dataframe\">\n",
       "  <thead>\n",
       "    <tr style=\"text-align: right;\">\n",
       "      <th></th>\n",
       "      <th>Date</th>\n",
       "      <th>Store</th>\n",
       "      <th>Product</th>\n",
       "      <th>Sales</th>\n",
       "      <th>Quantity</th>\n",
       "    </tr>\n",
       "  </thead>\n",
       "  <tbody>\n",
       "    <tr>\n",
       "      <th>0</th>\n",
       "      <td>2023-01-01</td>\n",
       "      <td>Store D</td>\n",
       "      <td>Product 8</td>\n",
       "      <td>115.44</td>\n",
       "      <td>4</td>\n",
       "    </tr>\n",
       "    <tr>\n",
       "      <th>1</th>\n",
       "      <td>2023-01-01</td>\n",
       "      <td>Store B</td>\n",
       "      <td>Product 6</td>\n",
       "      <td>379.50</td>\n",
       "      <td>8</td>\n",
       "    </tr>\n",
       "    <tr>\n",
       "      <th>2</th>\n",
       "      <td>2023-01-01</td>\n",
       "      <td>Store E</td>\n",
       "      <td>Product 4</td>\n",
       "      <td>855.70</td>\n",
       "      <td>10</td>\n",
       "    </tr>\n",
       "    <tr>\n",
       "      <th>3</th>\n",
       "      <td>2023-01-01</td>\n",
       "      <td>Store D</td>\n",
       "      <td>Product 8</td>\n",
       "      <td>495.19</td>\n",
       "      <td>7</td>\n",
       "    </tr>\n",
       "    <tr>\n",
       "      <th>4</th>\n",
       "      <td>2023-01-01</td>\n",
       "      <td>Store A</td>\n",
       "      <td>Product 5</td>\n",
       "      <td>109.13</td>\n",
       "      <td>3</td>\n",
       "    </tr>\n",
       "    <tr>\n",
       "      <th>...</th>\n",
       "      <td>...</td>\n",
       "      <td>...</td>\n",
       "      <td>...</td>\n",
       "      <td>...</td>\n",
       "      <td>...</td>\n",
       "    </tr>\n",
       "    <tr>\n",
       "      <th>995</th>\n",
       "      <td>2023-12-31</td>\n",
       "      <td>Store B</td>\n",
       "      <td>Product 9</td>\n",
       "      <td>67.57</td>\n",
       "      <td>1</td>\n",
       "    </tr>\n",
       "    <tr>\n",
       "      <th>996</th>\n",
       "      <td>2023-12-31</td>\n",
       "      <td>Store D</td>\n",
       "      <td>Product 3</td>\n",
       "      <td>31.20</td>\n",
       "      <td>2</td>\n",
       "    </tr>\n",
       "    <tr>\n",
       "      <th>997</th>\n",
       "      <td>2023-12-31</td>\n",
       "      <td>Store E</td>\n",
       "      <td>Product 4</td>\n",
       "      <td>61.21</td>\n",
       "      <td>2</td>\n",
       "    </tr>\n",
       "    <tr>\n",
       "      <th>998</th>\n",
       "      <td>2023-12-31</td>\n",
       "      <td>Store B</td>\n",
       "      <td>Product 6</td>\n",
       "      <td>507.75</td>\n",
       "      <td>6</td>\n",
       "    </tr>\n",
       "    <tr>\n",
       "      <th>999</th>\n",
       "      <td>2023-12-31</td>\n",
       "      <td>Store A</td>\n",
       "      <td>Product 9</td>\n",
       "      <td>29.05</td>\n",
       "      <td>2</td>\n",
       "    </tr>\n",
       "  </tbody>\n",
       "</table>\n",
       "<p>1000 rows × 5 columns</p>\n",
       "</div>"
      ],
      "text/plain": [
       "           Date    Store    Product   Sales  Quantity\n",
       "0    2023-01-01  Store D  Product 8  115.44         4\n",
       "1    2023-01-01  Store B  Product 6  379.50         8\n",
       "2    2023-01-01  Store E  Product 4  855.70        10\n",
       "3    2023-01-01  Store D  Product 8  495.19         7\n",
       "4    2023-01-01  Store A  Product 5  109.13         3\n",
       "..          ...      ...        ...     ...       ...\n",
       "995  2023-12-31  Store B  Product 9   67.57         1\n",
       "996  2023-12-31  Store D  Product 3   31.20         2\n",
       "997  2023-12-31  Store E  Product 4   61.21         2\n",
       "998  2023-12-31  Store B  Product 6  507.75         6\n",
       "999  2023-12-31  Store A  Product 9   29.05         2\n",
       "\n",
       "[1000 rows x 5 columns]"
      ]
     },
     "execution_count": 23,
     "metadata": {},
     "output_type": "execute_result"
    }
   ],
   "source": [
    "df=pd.read_csv('/Users/lalithavemalapalli/Desktop/data_science/sales_data.csv')\n",
    "df"
   ]
  },
  {
   "cell_type": "code",
   "execution_count": 22,
   "metadata": {},
   "outputs": [],
   "source": [
    "df['Date'] = pd.to_datetime(df['Date']).dt.date"
   ]
  },
  {
   "cell_type": "code",
   "execution_count": 24,
   "metadata": {},
   "outputs": [],
   "source": [
    "insert_query = f\"\"\"\n",
    "INSERT INTO {TABLE_NAME} (Date, Store, Product, Sales, Quantity)\n",
    "VALUES (%s, %s, %s, %s, %s)\n",
    "\"\"\"\n",
    "\n",
    "# Convert DataFrame rows to a list of tuples\n",
    "data_to_insert = list(df[['Date', 'Store', 'Product', 'Sales', 'Quantity']].itertuples(index=False, name=None))"
   ]
  },
  {
   "cell_type": "code",
   "execution_count": 25,
   "metadata": {},
   "outputs": [
    {
     "name": "stdout",
     "output_type": "stream",
     "text": [
      "Inserted 1000 rows into 'sales_data' table in 'sales_db' database.\n"
     ]
    }
   ],
   "source": [
    "cursor.executemany(insert_query, data_to_insert)\n",
    "conn.commit()\n",
    "\n",
    "print(f\"Inserted {cursor.rowcount} rows into '{TABLE_NAME}' table in '{DATABASE_NAME}' database.\")"
   ]
  },
  {
   "cell_type": "code",
   "execution_count": 26,
   "metadata": {},
   "outputs": [],
   "source": [
    "cursor.close()\n",
    "conn.close()"
   ]
  },
  {
   "cell_type": "code",
   "execution_count": 31,
   "metadata": {},
   "outputs": [],
   "source": [
    "conn = mysql.connector.connect(\n",
    "    host=MYSQL_HOST,\n",
    "    user=MYSQL_USER,\n",
    "    database=DATABASE_NAME\n",
    ")\n",
    "cursor = conn.cursor()\n",
    "cursor.execute(\"\"\"SELECT Product , SUM(Sales) AS TotalSales\n",
    "               FROM sales_data\n",
    "               GROUP BY Product;\"\"\")"
   ]
  },
  {
   "cell_type": "code",
   "execution_count": 35,
   "metadata": {},
   "outputs": [
    {
     "name": "stdout",
     "output_type": "stream",
     "text": [
      "('Product 8', Decimal('315.726500'))\n",
      "('Product 6', Decimal('253.775758'))\n",
      "('Product 4', Decimal('307.200957'))\n",
      "('Product 5', Decimal('299.862793'))\n",
      "('Product 1', Decimal('298.425581'))\n",
      "('Product 9', Decimal('247.218922'))\n",
      "('Product 3', Decimal('279.408750'))\n",
      "('Product 7', Decimal('262.421895'))\n",
      "('Product 2', Decimal('276.117789'))\n",
      "('Product 10', Decimal('300.456882'))\n"
     ]
    }
   ],
   "source": [
    "conn = mysql.connector.connect(\n",
    "    host=MYSQL_HOST,\n",
    "    user=MYSQL_USER,\n",
    "    database=DATABASE_NAME\n",
    ")\n",
    "cursor = conn.cursor()\n",
    "cursor.execute(\"\"\"SELECT Product , AVG(Sales) AS AverageSales\n",
    "               FROM sales_data\n",
    "               GROUP BY Product;\"\"\")\n",
    "result=cursor.fetchall()\n",
    "for row in result:\n",
    "    print(row)\n",
    "conn.close()\n"
   ]
  },
  {
   "cell_type": "code",
   "execution_count": 39,
   "metadata": {},
   "outputs": [
    {
     "name": "stdout",
     "output_type": "stream",
     "text": [
      "('Product 8', Decimal('362.738947'))\n",
      "('Product 6', Decimal('273.684167'))\n",
      "('Product 4', Decimal('327.232000'))\n",
      "('Product 5', Decimal('309.168000'))\n",
      "('Product 5', Decimal('328.660000'))\n",
      "('Product 1', Decimal('355.263125'))\n",
      "('Product 4', Decimal('309.173077'))\n",
      "('Product 9', Decimal('318.330952'))\n",
      "('Product 3', Decimal('305.455000'))\n",
      "('Product 5', Decimal('335.508571'))\n",
      "('Product 4', Decimal('292.440345'))\n",
      "('Product 3', Decimal('283.725455'))\n",
      "('Product 3', Decimal('247.440500'))\n",
      "('Product 7', Decimal('292.215556'))\n",
      "('Product 7', Decimal('224.791250'))\n",
      "('Product 6', Decimal('236.403478'))\n",
      "('Product 2', Decimal('286.058333'))\n",
      "('Product 8', Decimal('286.698500'))\n",
      "('Product 10', Decimal('266.545882'))\n",
      "('Product 7', Decimal('304.615714'))\n",
      "('Product 9', Decimal('205.885789'))\n",
      "('Product 3', Decimal('289.790000'))\n",
      "('Product 2', Decimal('287.865000'))\n",
      "('Product 6', Decimal('298.153333'))\n",
      "('Product 1', Decimal('300.951111'))\n",
      "('Product 3', Decimal('271.295417'))\n",
      "('Product 8', Decimal('336.363478'))\n",
      "('Product 1', Decimal('281.053333'))\n",
      "('Product 10', Decimal('260.481304'))\n",
      "('Product 1', Decimal('271.325000'))\n",
      "('Product 6', Decimal('303.401111'))\n",
      "('Product 4', Decimal('273.156087'))\n",
      "('Product 10', Decimal('350.728824'))\n",
      "('Product 8', Decimal('316.846111'))\n",
      "('Product 10', Decimal('300.275882'))\n",
      "('Product 9', Decimal('255.618800'))\n",
      "('Product 7', Decimal('220.318947'))\n",
      "('Product 9', Decimal('220.697857'))\n",
      "('Product 2', Decimal('234.037368'))\n",
      "('Product 6', Decimal('167.609474'))\n",
      "('Product 7', Decimal('291.226500'))\n",
      "('Product 1', Decimal('287.558947'))\n",
      "('Product 9', Decimal('223.448261'))\n",
      "('Product 4', Decimal('362.120833'))\n",
      "('Product 8', Decimal('275.352500'))\n",
      "('Product 2', Decimal('273.989167'))\n",
      "('Product 5', Decimal('298.779524'))\n",
      "('Product 2', Decimal('293.695500'))\n",
      "('Product 10', Decimal('334.371579'))\n",
      "('Product 5', Decimal('241.556800'))\n"
     ]
    }
   ],
   "source": [
    "conn = mysql.connector.connect(\n",
    "    host=MYSQL_HOST,\n",
    "    user=MYSQL_USER,\n",
    "    database=DATABASE_NAME\n",
    ")\n",
    "cursor = conn.cursor()\n",
    "cursor.execute(\"\"\"SELECT Product , AVG(Sales) AS TotalSales\n",
    "               FROM sales_data\n",
    "               GROUP BY Product,Store;\"\"\")\n",
    "result=cursor.fetchall()\n",
    "for x in result:\n",
    "    print(x)\n",
    "conn.close()"
   ]
  },
  {
   "cell_type": "code",
   "execution_count": 8,
   "metadata": {},
   "outputs": [
    {
     "name": "stdout",
     "output_type": "stream",
     "text": [
      "(100,)\n",
      "(99,)\n",
      "(115,)\n",
      "(111,)\n",
      "(86,)\n",
      "(102,)\n",
      "(104,)\n",
      "(95,)\n",
      "(95,)\n",
      "(93,)\n"
     ]
    }
   ],
   "source": [
    "conn = mysql.connector.connect(\n",
    "    host=MYSQL_HOST,\n",
    "    user=MYSQL_USER,\n",
    "    database=DATABASE_NAME\n",
    ")\n",
    "cursor = conn.cursor()\n",
    "cursor.execute(\"\"\"SELECT COUNT('Store') AS count_of_stores\n",
    "               FROM sales_data\n",
    "               GROUP BY Product;\"\"\")\n",
    "result=cursor.fetchall()\n",
    "for x in result:\n",
    "    print(x)\n",
    "conn.close()"
   ]
  },
  {
   "cell_type": "code",
   "execution_count": 9,
   "metadata": {},
   "outputs": [
    {
     "name": "stdout",
     "output_type": "stream",
     "text": [
      "(186, 186, 186)\n",
      "(204, 204, 204)\n",
      "(206, 206, 206)\n",
      "(208, 208, 208)\n",
      "(196, 196, 196)\n"
     ]
    }
   ],
   "source": [
    "conn = mysql.connector.connect(\n",
    "    host=MYSQL_HOST,\n",
    "    user=MYSQL_USER,\n",
    "    database=DATABASE_NAME\n",
    ")\n",
    "cursor = conn.cursor()\n",
    "cursor.execute(\"\"\"SELECT COUNT('Store') AS count_of_store, COUNT('Product') AS count_of_prod,COUNT('Sales') AS count_of_sales\n",
    "               FROM sales_data\n",
    "               WHERE Product IS NOT NULL\n",
    "               GROUP BY Store;\"\"\")\n",
    "result=cursor.fetchall()\n",
    "for x in result:\n",
    "    print(x)\n",
    "conn.close()"
   ]
  },
  {
   "cell_type": "code",
   "execution_count": 10,
   "metadata": {},
   "outputs": [
    {
     "name": "stdout",
     "output_type": "stream",
     "text": [
      "(datetime.date(2023, 1, 1),)\n",
      "(datetime.date(2023, 1, 1),)\n",
      "(datetime.date(2023, 1, 1),)\n",
      "(datetime.date(2023, 1, 1),)\n",
      "(datetime.date(2023, 1, 2),)\n",
      "(datetime.date(2023, 1, 4),)\n",
      "(datetime.date(2023, 1, 4),)\n",
      "(datetime.date(2023, 1, 5),)\n",
      "(datetime.date(2023, 1, 6),)\n",
      "(datetime.date(2023, 1, 6),)\n"
     ]
    }
   ],
   "source": [
    "conn = mysql.connector.connect(\n",
    "    host=MYSQL_HOST,\n",
    "    user=MYSQL_USER,\n",
    "    database=DATABASE_NAME\n",
    ")\n",
    "cursor = conn.cursor()\n",
    "cursor.execute(\"\"\"SELECT MIN(Date) AS minimum_of_date\n",
    "                  From sales_data\n",
    "                  GROUP BY Product;\"\"\")\n",
    "result=cursor.fetchall()\n",
    "for x in result:\n",
    "    print(x)\n",
    "conn.close()"
   ]
  },
  {
   "cell_type": "code",
   "execution_count": null,
   "metadata": {},
   "outputs": [],
   "source": []
  }
 ],
 "metadata": {
  "kernelspec": {
   "display_name": "Python 3",
   "language": "python",
   "name": "python3"
  },
  "language_info": {
   "codemirror_mode": {
    "name": "ipython",
    "version": 3
   },
   "file_extension": ".py",
   "mimetype": "text/x-python",
   "name": "python",
   "nbconvert_exporter": "python",
   "pygments_lexer": "ipython3",
   "version": "3.9.18"
  },
  "orig_nbformat": 4
 },
 "nbformat": 4,
 "nbformat_minor": 2
}
