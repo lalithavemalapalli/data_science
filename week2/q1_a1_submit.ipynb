{
  "cells": [
    {
      "cell_type": "markdown",
      "metadata": {},
      "source": [
        "# 1st Week Assignment"
      ]
    },
    {
      "cell_type": "markdown",
      "metadata": {},
      "source": [
        "Before we start, we import some preliminary libraries."
      ]
    },
    {
      "cell_type": "code",
      "execution_count": null,
      "metadata": {},
      "outputs": [],
      "source": [
        "%pip install -q ipywidgets"
      ]
    },
    {
      "cell_type": "code",
      "execution_count": null,
      "metadata": {
        "trusted": true
      },
      "outputs": [],
      "source": [
        "import numpy as np\n",
        "from matplotlib import pyplot as plt\n",
        "from scipy import integrate\n",
        "\n",
        "from ipywidgets import interactive, fixed"
      ]
    },
    {
      "cell_type": "markdown",
      "metadata": {},
      "source": [
        "### Assignment 1: \n",
        "**Task**:\n",
        "**Objective**: Understand Python’s core syntax and how it handles tasks like string manipulation and lists.\n",
        "\n",
        " 1. Write a Python script that:\n",
        "   - Takes a string input from the user and converts it to a list of words."
      ]
    },
    {
      "cell_type": "code",
      "execution_count": null,
      "metadata": {
        "trusted": true
      },
      "outputs": [],
      "source": [
        "s1=input(\"enter the string:\")\n",
        "print(s1)\n",
        "print(\"the list of words in the inputed string are:\",list(s1))"
      ]
    },
    {
      "cell_type": "markdown",
      "metadata": {},
      "source": [
        "- Reverse the order of the words without using any built-in methods that directly reverse the list."
      ]
    },
    {
      "cell_type": "code",
      "execution_count": null,
      "metadata": {
        "trusted": true
      },
      "outputs": [],
      "source": [
        "s1=\"Lalitha v\"\n",
        "s1=[ ::-1]\n",
        "\n",
        "l1=[1,2,3,4,5]\n",
        "l1=[ ::-1]"
      ]
    },
    {
      "cell_type": "markdown",
      "metadata": {},
      "source": [
        " - Replace any word that has an odd number of characters with the word “oddword”."
      ]
    },
    {
      "cell_type": "code",
      "execution_count": null,
      "metadata": {
        "trusted": true
      },
      "outputs": [],
      "source": [
        "words = [\"lalitha\",\"swathi\",\"anjali\",\"sunitha\",\"shravani\",\"venkatesh\"]\n",
        "modified_words=['oddword' if len(word)%2!=0 else word for word in words]\n",
        "modified_words"
      ]
    },
    {
      "cell_type": "markdown",
      "metadata": {},
      "source": [
        "2. **Question**: Explain how Python handles string slicing and list operations. How does this affect how you approached reversing the list?\n",
        "    ans: string slicing : the python do many operations with strings in that the string slicing is one of that.\n",
        "                          where this slicing operation returns the slice from the string . \n",
        "                          this slicing does not affect the original string but this returns the slice of that string .\n",
        "                    example: val=\"Lalitha\"\n",
        "                             print(val[0:3])\n",
        "                          Python also supports the negative indexing , where -1 represents the last element .\n",
        "         list operations : python supports different list operations: \n",
        "                             1. accessing the list : we can access the list elements by using index values.\n",
        "                                 ex: l1=[1,2,3,4,5]\n",
        "                                      print(l1[0:2])\n",
        "                             2.adding an element to the list: \n",
        "                                 * using append() method: this append() method is used to add the element at the end of the list .\n",
        "                                     l1=[1,2,3,4,5]\n",
        "                                     print(l1.append(6))\n",
        "                                 * using insert() method: this insert() method is used to add the element at the specified position in the list.\n",
        "                                     l1=[1,2,3,4,5]\n",
        "                                     print(l1.insert(2,10))\n",
        "                             3. deleting an element from the list:\n",
        "                                  * using pop() method: this pop() method is used to remove the element from the list . it delets the last element from the list.\n",
        "                                      l1=[1,2,3,4,5]\n",
        "                                      print(l1.pop())\n",
        "                                  * using remove() method: this remove() method is used to remove the specific element from the list .\n",
        "                                      l1=[1,2,3,4]\n",
        "                                      print(l1.remove(3))\n",
        "                             4. concatinating the list : \n",
        "                                   we can concatinate the two lists in python using the + operator .\n",
        "                                     l1=[1,2,3,4,5]\n",
        "                                      l2=[6,7,8]\n",
        "                                      n1=l1+l2\n",
        "                                      print(n1)\n",
        "             In python it supports the negative indexing . in python we use two methods to reverse the list , one is by using the python built-in function reverse() and another one is using the indexing .\n",
        "             ex: l1=[1,2,3,4,5]\n",
        "                 print(l1[::-1])\n",
        "                   output: [5,4,3,2,1]       \n"
      ]
    },
    {
      "cell_type": "markdown",
      "metadata": {},
      "source": [
        "### Assignment 2:\n",
        "**Interactive Computing with IPython**\n",
        "    **Objective**: Learn how to use IPython to analyze and compare code performance.\n",
        "    **Task**:\n",
        "    1.Use the `%timeit` magic command in IPython to compare the performance of the following methods to create a list of numbers from 1 to 1 million:"
      ]
    },
    {
      "cell_type": "code",
      "execution_count": null,
      "metadata": {
        "trusted": true
      },
      "outputs": [],
      "source": [
        "def create_list():\n",
        "    lst=[]\n",
        "    for i in range(1,1000001):\n",
        "         lst.append(i)\n",
        "         return i\n",
        "%timeit create_list"
      ]
    },
    {
      "cell_type": "markdown",
      "metadata": {},
      "source": [
        "- List comprehension."
      ]
    },
    {
      "cell_type": "code",
      "execution_count": null,
      "metadata": {
        "trusted": true
      },
      "outputs": [],
      "source": [
        " %timeit [i for i in range(1, 1000001)]"
      ]
    },
    {
      "cell_type": "markdown",
      "metadata": {},
      "source": [
        "- The `range()` function."
      ]
    },
    {
      "cell_type": "code",
      "execution_count": null,
      "metadata": {
        "trusted": true
      },
      "outputs": [],
      "source": [
        "%timeit list(range(1,1000001))"
      ]
    },
    {
      "cell_type": "markdown",
      "metadata": {},
      "source": [
        "2. **Deliverable**:  Write a short explanation of which method performed the fastest and why. Discuss how Python’s dynamic typing impacts performance in this context.\n",
        "        ans: firstly we use the for loop to create the list if numbers from 1 to 1 million - in this the for loop takes 7 runs and 100,000,000 loop each ,\n",
        "       the average time taken to run the loop using for loop is 13.8 ns per each run it performed 1000,000,000 loops per run and the total runs taken to create the list is 7.\n",
        "    secondly we take the list comprehension (this is the simplest way or creating the lists in python )- this also takes 7 runs and 10 loops each ,\n",
        "       the average time taken to run the loop using the list comprehension is 22.5 ms per each run it performed 10 loops per each run and the total runs taken to create the list is 7 runs .\n",
        "    at last we take range() function to create the list - this takes 7 runs and 100 loops each ,\n",
        "       the average time taken to run the loop is 13.1 ms per each run it performed 100 loops per each run and the total runs taken by the range() function to create the list is 7 runs ."
      ]
    },
    {
      "cell_type": "markdown",
      "metadata": {},
      "source": [
        "### Assignment 3: **Exploring Jupyter Notebook Features**\n",
        "**Objective**: Use Jupyter Notebooks to combine code, text, and visualizations in one place.\n",
        "\n",
        "**Task**:\n",
        "1. Create a Jupyter Notebook that:\n",
        "   ans: to import csv file into pandas data frame firstly we need to import the pandas into the jupyter nootbook \n",
        "               import pndas as pd \n",
        "    next we need to import data from csv file into the pandas data frame using the read_csv command \n",
        "                 df=pd.read_csv(\"data.csv\")"
      ]
    },
    {
      "cell_type": "markdown",
      "metadata": {},
      "source": [
        "- Uses Markdown cells to provide a description of the dataset.\n",
        "        ans: to use the markdown cell first we need to create the new markdown cell in the jupyter file \n",
        "              1. click on the + symbol on the tool bar to create the new file \n",
        "              2. save that file with a .md extension to create the markdown file .\n",
        "              3. then start typing the description of the data set in that markdown file which you have created."
      ]
    },
    {
      "cell_type": "markdown",
      "metadata": {},
      "source": [
        "- Plots a simple graph of one or more columns using matplotlib.\n",
        "    ans: to plot a simple graph on the jupyter notebook first we need to import the matplotlib library \n",
        "              import matplotlib.pyplot as plt\n",
        "         now let us plot a simple graph using the first two columns in the data frames \n",
        "               p1=plt.plot(df['column1'],df['column2'])\n",
        "        if we need to add the ladel to the graph the "
      ]
    },
    {
      "cell_type": "code",
      "execution_count": null,
      "metadata": {
        "trusted": true
      },
      "outputs": [],
      "source": [
        "p1=plt.plot(df['column1'],df['column2'])\n",
        "plt.xlabel(\"column1\")\n",
        "plt.ylabel(\"column2\")"
      ]
    },
    {
      "cell_type": "markdown",
      "metadata": {},
      "source": [
        "2. **Bonus**: In a Markdown cell, write a math formula using LaTeX to show how to calculate the mean of a dataset’s numerical column. Explain how to manually calculate the mean in Python.\n",
        "            ans: a math formula using LaTeX to show how to calculate the mean of a datasets numerical column:\n",
        "                   μ= 1/n(sum of xi)\n",
        "                where , μ represents the mean \n",
        "                        n is the total number of vcalues in the list \n",
        "                        and xi represents the each value in the list \n",
        "                To manually calculate the mean in python i : we can able to calculate the mean manually in python using the basic functions in python sum() and len().\n",
        "                     data=[10,20,30,40,50]\n",
        "                     mean=sum(data)/len(data)\n",
        "                     print(\"mean value of the given data is:\",mean)\n",
        "                here , sum(data) represents the total sum of the values in the list.\n",
        "                       len(data) represents the len of the list .\n"
      ]
    },
    {
      "cell_type": "markdown",
      "metadata": {},
      "source": [
        "### Assignment 4: **Debugging with IPython**\n",
        "**Objective**: Get comfortable debugging Python code using IPython's debugging features.\n",
        "\n",
        " 1. Write a Python function that:\n",
        "   - Takes a list of numbers and returns the sum of the squares of all the even numbers."
      ]
    },
    {
      "cell_type": "code",
      "execution_count": null,
      "metadata": {
        "trusted": true
      },
      "outputs": [],
      "source": [
        "numbers=[1,2,3,4,5,6,7,8,9]\n",
        "def sum_of_square_of_num(numbers):\n",
        "    for num in numbers: \n",
        "        if num%2==0:\n",
        "            total += num**2\n",
        "        return total\n",
        "numbers=[10,20,30,40,50]\n",
        "result=sum_of_square_of_num(numbers)\n",
        "print(\"squares of the given numbers are:\",result)"
      ]
    },
    {
      "cell_type": "markdown",
      "metadata": {},
      "source": [
        " - Deliberately introduce an error in the code (e.g., use an undefined variable)."
      ]
    },
    {
      "cell_type": "code",
      "execution_count": null,
      "metadata": {
        "trusted": true
      },
      "outputs": [],
      "source": [
        "def sum_of_square_of_num(numbers):\n",
        "    for num in numbers: \n",
        "        if num%2==0:\n",
        "            total += num**2\n",
        "        return total + var1\n",
        "numbers=[10,20,30,40,50]\n",
        "result=sum_of_square_of_num(numbers)\n",
        "print(\"squares of the given numbers are:\",result)"
      ]
    },
    {
      "cell_type": "markdown",
      "metadata": {},
      "source": [
        "in the above program there is an error that is we didn't declared the  var1 when we run this program we will get the error that is undefined error."
      ]
    },
    {
      "cell_type": "markdown",
      "metadata": {},
      "source": [
        "2. Use IPython’s `%debug` command to identify the error in your function. Submit a notebook that includes:\n",
        "   - The original buggy code."
      ]
    },
    {
      "cell_type": "code",
      "execution_count": null,
      "metadata": {
        "trusted": true
      },
      "outputs": [],
      "source": [
        "def sum_of_square_of_num(numbers):\n",
        "   for num in numbers: \n",
        "        if num%2==0:\n",
        "            total += num**2\n",
        "        return total \n",
        "result=sum_of_square_of_num(numbers)\n",
        "print(\"squares of the given numbers are:\",result)"
      ]
    },
    {
      "cell_type": "markdown",
      "metadata": {},
      "source": [
        "- The `%debug` output showing how you found the error.\n",
        "      this %debug command is used to find the error in the code in python now in the above program there is an error to find out that we use this %debug command and we found that there is an NAME ERROR in the code ,\n",
        "      that is numbers is not defined .\n",
        "         NameError : name 'numbers' is not defined "
      ]
    },
    {
      "cell_type": "markdown",
      "metadata": {},
      "source": [
        " - The corrected code with an explanation of the fix."
      ]
    },
    {
      "cell_type": "code",
      "execution_count": null,
      "metadata": {
        "trusted": true
      },
      "outputs": [],
      "source": [
        "def sum_of_square_of_num(numbers):\n",
        "    for num in numbers: \n",
        "        if num%2==0:\n",
        "            total += num**2\n",
        "        return total \n",
        "numbers=[10,20,30,40,50]\n",
        "result=sum_of_square_of_num(numbers)\n",
        "print(\"squares of the given numbers are:\",result)"
      ]
    },
    {
      "cell_type": "markdown",
      "metadata": {},
      "source": [
        "here there is an error that is numbers is not defined , now i fixed a code by declaring a numbers and passing a value ."
      ]
    },
    {
      "cell_type": "markdown",
      "metadata": {},
      "source": [
        "### Assignment 5: **Magic Functions and Automation in IPython**\n",
        "**Objective**: Learn how to use IPython’s magic commands to optimize tasks.\n",
        "\n",
        "**Task**:\n",
        "1. Use `%run`, `%time`, and `%store` magic commands to:\n",
        "   - Read a list of integers from a file.\n",
        "      ans: first we need to create a file that contains the list of integers .\n",
        "           file name is numbers.txt\n",
        "           now the prgram dile is saved as read_l1.py.\n",
        "                def read_integers(numbers):\n",
        "                    with open(numbers, 'r') as file:\n",
        "                       return [int(line.strip()) for line in file]\n",
        "                numbers = read_integers('numbers.txt')\n",
        "                print(\"Original list:\", numbers)\n",
        "            here the above program is to read the list of numbers from the file , the read_integers is a function name and the         line_strip() is used in the above program to remove the whitespaces in the file .\n",
        "        using %run command :\n",
        "              %run read_l1.py\n",
        "            the %run command run the read_l1.py file and print the list of numbers."
      ]
    },
    {
      "cell_type": "markdown",
      "metadata": {},
      "source": [
        "- Time how long it takes to sort the list.\n",
        "        ans: we use %time command to check how much time it takes to sort the list of elements . to sort the numbers we use                the sorted() function in python ,the program will be \n",
        "                         %time sort_num = sorted(numbers)\n",
        "                 output: the cpu takes 4 microseconds and the total time taken is that is combination of cpu time and system                            time that is 5 microseconds \n",
        "                          wall time is the clock time it takes is 5.96 microseconds."
      ]
    },
    {
      "cell_type": "markdown",
      "metadata": {},
      "source": [
        "- Store the sorted list and reuse it in a later session . \n",
        "        ans: we use the %store command to store the sorted list and we are able to use that stored list in the later programs               also .\n",
        "                 %store sort_num       \n",
        "            output: Stored 'sort_num' (list)"
      ]
    },
    {
      "cell_type": "markdown",
      "metadata": {},
      "source": [
        "2. **Discussion**: Explain how `%store` can be useful in real-world data analysis workflows.\n",
        "      In python the %store command is used to store the values . in data analysis also the %store is used to store the                   analyzed data .\n",
        "      in data analytics again and again we need to read the data and visualize the data it will be very difficult to save the          data again and again by creating the documents,\n",
        "      but it is easy to save the visualised and analysed data using the %store command in python."
      ]
    },
    {
      "cell_type": "markdown",
      "metadata": {},
      "source": [
        "### Assignment 6: **Customizing the IPython Environment**\n",
        "**Objective**: Optimize your IPython setup for better productivity.\n",
        "\n",
        "**Task**:\n",
        "1. Customize your IPython startup configuration file (`ipython_config.py`) to:\n",
        "     ans: To create the configuration file run the following command on the terminal .\n",
        "          command : ipython profile create "
      ]
    },
    {
      "cell_type": "markdown",
      "metadata": {},
      "source": [
        " - Automatically import commonly used libraries (e.g., numpy, pandas).\n",
        "       ans: to import commonly used libraries automatically you need to run the code ."
      ]
    },
    {
      "cell_type": "code",
      "execution_count": null,
      "metadata": {
        "trusted": true
      },
      "outputs": [],
      "source": [
        "c = get_config() \n",
        "c.InteractiveShellApp.exec_lines = ['import numpy as np',\n",
        "                                     'import pandas as pd',\n",
        "                                     'import matplotlib.pyplot as plt',\n",
        "                                     'plt.style.use(\"ggplot\")'\n",
        "                                    ]"
      ]
    },
    {
      "cell_type": "markdown",
      "metadata": {},
      "source": [
        "In the above code c means the configuration of the get_config() method and ,The InteractiveShellApp includes what should be run when the IPython session starts , and it is a list of python code that is executed automatically when the shell is started,\n",
        "The .exec_lines represents  when we start the python shell it will execute the code in the list automatically ."
      ]
    },
    {
      "cell_type": "markdown",
      "metadata": {},
      "source": [
        "- Set a default plotting style using matplotlib. \n",
        "        ans: to set a default plotting style using matypplotlib we use this command :\n",
        "               c.InteractiveShellApp.exec_lines.append(\"plt.style.use('ggplot')\")\n",
        "            here , .exec_lines.append() method add the element at the end of the code .\n",
        "            and plt.style.use is used to set the style for the plotting \n",
        "            and the 'ggplot' is a style which is commaonly used to plot the graph ."
      ]
    },
    {
      "cell_type": "markdown",
      "metadata": {},
      "source": [
        "2. **Reflection**: How does configuring an environment like IPython save time or reduce errors for data analysts? Describe a situation where this customization would be helpful.\n",
        "     ans: configuring an environment like IPython saves time and reduce errors for data analytics.\n",
        "           * in data analytics we always do the analysis and visualization with the same libraries like pandas, numpy and                        matplotlib by configuring\n",
        "            * it helps yo reduce the small small errors and when the errors are reduced it automatically reduces the time , it                  helps in saving the time for the analyst .\n",
        "        **A Situation**\n",
        "           for example , a girl name is shravya , she goes on working with the visualization and analytical tools she analyse                  the customer data ,she creates the reports every week .\n",
        "                in this situation if by chance she forget how to import the libraries then she faces many errors in importing                  and it consumes lot of time ,\n",
        "                soo in this case when we use the configuration this helps in time saving and error reductiona because when we                  open the IPython shell \n",
        "                it automatically imports all the basic libraries which ever we provided .\n"
      ]
    }
  ],
  "metadata": {
    "kernelspec": {
      "display_name": "Python 3",
      "language": "python",
      "name": "python3"
    },
    "language_info": {
      "codemirror_mode": {
        "name": "ipython",
        "version": 3
      },
      "file_extension": ".py",
      "mimetype": "text/x-python",
      "name": "python",
      "nbconvert_exporter": "python",
      "pygments_lexer": "ipython3",
      "version": "3.9.6"
    }
  },
  "nbformat": 4,
  "nbformat_minor": 4
}
