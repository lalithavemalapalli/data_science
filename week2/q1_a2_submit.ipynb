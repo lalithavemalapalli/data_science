{
  "cells": [
    {
      "cell_type": "markdown",
      "metadata": {},
      "source": [
        "# 2nd Assignment"
      ]
    },
    {
      "cell_type": "markdown",
      "metadata": {},
      "source": [
        "### Built-In Data Structures, Functions, and Files"
      ]
    },
    {
      "cell_type": "markdown",
      "metadata": {},
      "source": [
        "Before we start, we import some preliminary libraries."
      ]
    },
    {
      "cell_type": "code",
      "execution_count": null,
      "metadata": {},
      "outputs": [],
      "source": [
        "%pip install -q ipywidgets"
      ]
    },
    {
      "cell_type": "code",
      "execution_count": null,
      "metadata": {
        "trusted": true
      },
      "outputs": [],
      "source": [
        "import numpy as np\n",
        "from matplotlib import pyplot as plt\n",
        "from scipy import integrate\n",
        "\n",
        "from ipywidgets import interactive, fixed"
      ]
    },
    {
      "cell_type": "markdown",
      "metadata": {},
      "source": [
        "### **Assignment 1: Lists and Tuples in Depth**"
      ]
    },
    {
      "cell_type": "markdown",
      "metadata": {},
      "source": [
        "**Objective**: Reinforce your understanding of how lists and tuples work, including mutability, performance, and slicing.\n",
        "**Task**:"
      ]
    },
    {
      "cell_type": "markdown",
      "metadata": {},
      "source": [
        "1. Write a function `process_list_tuple` that:\n",
        "   - Takes a list of tuples, each containing a student name and their score, e.g., `[('John', 85), ('Jane', 92), ('Dave',78)]`."
      ]
    },
    {
      "cell_type": "code",
      "execution_count": null,
      "metadata": {
        "trusted": true
      },
      "outputs": [],
      "source": [
        "def process_list_tuple(student_tuples):\n",
        "    student_dict = {}\n",
        "    for name, score in student_tuples:\n",
        "        student_dict[name] = score\n",
        "    return student_dict\n",
        "students = [('Anju', 90), ('Joe', 85), ('Swathi', 88)]\n",
        "result = process_list_tuple(students)\n",
        "print(result)"
      ]
    },
    {
      "cell_type": "markdown",
      "metadata": {},
      "source": [
        "In the above program we create the function called process_list_tuple() and passed a parameter in the function as student_tuples, at last we call the function it returns the list which contains both the student name and their score ."
      ]
    },
    {
      "cell_type": "markdown",
      "metadata": {},
      "source": [
        " - Returns two outputs:\n",
        "     - A sorted version of the list based on scores.\n",
        "        ans: To sort list based on the scores we need to use the sorted() method . "
      ]
    },
    {
      "cell_type": "code",
      "execution_count": null,
      "metadata": {
        "trusted": true
      },
      "outputs": [],
      "source": [
        "sorted_students = sorted(student_tuples, key=lambda x: x[1])\n",
        "print(\"sorted list based on the scores are:\",sorted_students)"
      ]
    },
    {
      "cell_type": "markdown",
      "metadata": {},
      "source": [
        "- A list of only the names of students who scored above 80.\n",
        "        ans: to list the only names of students who scored above 80 is:"
      ]
    },
    {
      "cell_type": "code",
      "execution_count": null,
      "metadata": {
        "trusted": true
      },
      "outputs": [],
      "source": [
        "above_80_students-[name for name,score in students if score > 80]\n",
        "print(\"students who scored above 80 are:\",above_80_students)"
      ]
    },
    {
      "cell_type": "markdown",
      "metadata": {},
      "source": [
        "2.Why are tuples used in this case instead of lists? What advantage do tuples offer?\n",
        "   ans: in this case we use tuples because rather than list because in python the tuples are mutable after declaring also we               can able to change the elements we can able to add , delete and update the tuples .\n",
        "         in this cse we didn't used the list because the lists are immutable in python they cant be able to add or delete or                    update the elements to the list hence we declared it ."
      ]
    },
    {
      "cell_type": "markdown",
      "metadata": {},
      "source": [
        "### **Assignment 2: Exploring Dictionaries and Sets**"
      ]
    },
    {
      "cell_type": "markdown",
      "metadata": {},
      "source": [
        "**Objective**: Understand dictionary operations and the importance of sets in certain algorithms.\n",
        "**Task**:"
      ]
    },
    {
      "cell_type": "markdown",
      "metadata": {},
      "source": [
        "1. Create a function `count_letter_frequency` that:\n",
        "   - Takes a string input and returns a dictionary with letters as keys and their frequency as values. For example, `\"hello\"` returns `{'h': 1, 'e': 1, 'l': 2, 'o': 1}`."
      ]
    },
    {
      "cell_type": "code",
      "execution_count": null,
      "metadata": {
        "trusted": true
      },
      "outputs": [],
      "source": [
        "def count_letter_frequency(input_string):\n",
        "    letter_frequency = {}\n",
        "    for letter in input_string:\n",
        "        if letter.isalpha():\n",
        "            letter = letter.lower()  \n",
        "            if letter in letter_frequency:\n",
        "                letter_frequency[letter] += 1\n",
        "            else:\n",
        "                letter_frequency[letter] = 1    \n",
        "        return letter_frequency\n",
        "input_str = \"hello\"\n",
        "result = count_letter_frequency(input_str)\n",
        "print(result)  "
      ]
    },
    {
      "cell_type": "markdown",
      "metadata": {},
      "source": [
        "In the above program the first in if condition letter.isalpha() checks whether the given input is alphabet or not ,and then the letter.lower() method converts the each alphabets into the lowercase , and then the second if condition update the cout of the frequency ."
      ]
    },
    {
      "cell_type": "markdown",
      "metadata": {},
      "source": [
        "2. Implement another function `unique_letters` that returns a set of letters that occur only once in the string."
      ]
    },
    {
      "cell_type": "code",
      "execution_count": null,
      "metadata": {
        "trusted": true
      },
      "outputs": [],
      "source": [
        "def unique_strings(input_string):\n",
        "    letter_frequency=count_letter_frequency(input_string)\n",
        "    unique = {letter for letter, count in letter_frequency.items() if count == 1}\n",
        "    return unique\n",
        "input_str = \"hello\"\n",
        "unique_result = unique_strings(input_str)\n",
        "print(unique_result)"
      ]
    },
    {
      "cell_type": "markdown",
      "metadata": {},
      "source": [
        "To print a set of letters that occur only once in the string firstly we need to count the number of occurences of each charecter in the string,to count that we use coount_letter_frequency.items() function in python ,after that we print the unique letters in the string that occur only once in the string ."
      ]
    },
    {
      "cell_type": "markdown",
      "metadata": {},
      "source": [
        "3. **Bonus**: What’s the time complexity of inserting and looking up elements in a dictionary compared to a list? Why?\n",
        "     ans: the time complexity of inserting and looking up elements in dictionary comared to a list is typical because dictionaries are the examples of the hash functions ,in this dictionaries because of this hash function the key are not able to access directly soo compared to list the indexing and looking up in dictionaries will be difficult."
      ]
    },
    {
      "cell_type": "markdown",
      "metadata": {},
      "source": [
        "### **Assignment 3: Custom Functions**:"
      ]
    },
    {
      "cell_type": "markdown",
      "metadata": {},
      "source": [
        "**Objective**: Create functions with default and keyword arguments.\n",
        "**Task**"
      ]
    },
    {
      "cell_type": "markdown",
      "metadata": {},
      "source": [
        "1.Write a function `student_grades` that:\n",
        "   - Accepts a dictionary of student names and scores.\n",
        "   - Returns the grade of a given student, or \"Student not found\" if the student does not exist.\n",
        "   - Includes an optional argument `passing_grade` with a default value of 60, and a flag to indicate whether you should return a \"Passed\" or \"Failed\" message instead of the score."
      ]
    },
    {
      "cell_type": "code",
      "execution_count": null,
      "metadata": {
        "trusted": true
      },
      "outputs": [],
      "source": [
        "def student_grades(students, student_name, passing_grade=60, return_status=False):\n",
        "    if student_name not in students:\n",
        "        return \"Student not found\"\n",
        "    score = students[student_name]\n",
        "    if return_status:\n",
        "        return \"Passed\" if score >= passing_grade else \"Failed\"\n",
        "    return score\n",
        "students_dict = {\n",
        "                'John': 85,\n",
        "                'Jane': 92,\n",
        "                'Dave': 55\n",
        "            }   \n",
        "print(student_grades(students_dict, 'John'))  \n",
        "print(student_grades(students_dict, 'Dave', return_status=True)) \n",
        "print(student_grades(students_dict, 'Alice'))"
      ]
    },
    {
      "cell_type": "markdown",
      "metadata": {},
      "source": [
        "2.**Question**: What are the benefits of using default and keyword arguments in Python functions? When should you use them?\n",
        "   ans: the benifits of using the default arguments are it helps the users for the repetative calls of the function and we don't have to provide the values or parameters when the function is called it will take the default values and run that program.the benifits of using the keyword arguments are it will helps the users to pass multiple parameters easily .the keyword arguments are particularly used when the user need to pass multiple parameters .\n"
      ]
    },
    {
      "cell_type": "markdown",
      "metadata": {},
      "source": [
        "### **Assignment 4: File I/O**"
      ]
    },
    {
      "cell_type": "markdown",
      "metadata": {},
      "source": [
        "**Objective**: Learn to read and write to files in Python.\n",
        "**Task**:"
      ]
    },
    {
      "cell_type": "markdown",
      "metadata": {},
      "source": [
        "1. Write a Python program that:\n",
        "   - Reads a text file containing lines of comma-separated values (e.g., `students.txt`).\n",
        "   - For each line, split the data into fields and store it in a dictionary where the first column is the key and the                 remaining columns are the values (e.g., student name and grades).\n",
        "   - Save the output as a new JSON file.\n",
        "      ans: import json"
      ]
    },
    {
      "cell_type": "code",
      "execution_count": null,
      "metadata": {
        "trusted": true
      },
      "outputs": [],
      "source": [
        "def process_csv_to_dict(file_path):\n",
        "    student_data = {}\n",
        "    with open(file_path, 'r') as file:\n",
        "        for line in file:\n",
        "            fields = line.strip().split(',')\n",
        "            student_name = fields[0]\n",
        "            grades = fields[1:]\n",
        "            student_data[student_name] = grades\n",
        "    return student_data\n",
        "def save_to_json(data, output_file):\n",
        "    with open(output_file, 'w') as json_file:\n",
        "        json.dump(data, json_file, indent=4)\n",
        "input_file = 'students.txt'  # The input CSV file\n",
        "output_file = 'students.json'  # The output JSON file\n",
        "students_dict = process_csv_to_dict(input_file)\n",
        "save_to_json(students_dict, output_file)\n",
        "print(f\"Data successfully saved to {output_file}\")"
      ]
    },
    {
      "cell_type": "markdown",
      "metadata": {},
      "source": [
        "2. **Bonus**: Explain the difference between binary and text modes when handling files in Python.\n",
        "   ans:There is a difference between the binary mode and the text mode .there are two modes in the file saving those                     are binary mode and text mode .\n",
        "   * binary mode: in binary mode the file content is treated as the raw binary data that is in the form of bytes .\n",
        "                 and in binary mode the newline charecters are not automatically converted .\n",
        "    * text mode: in text mode the file content is treated as the normal text\n",
        "                and in this text mode the newline charecters are automatically converted ."
      ]
    },
    {
      "cell_type": "markdown",
      "metadata": {},
      "source": [
        "### **Assignment 5: Lambda Functions and List Comprehensions**"
      ]
    },
    {
      "cell_type": "markdown",
      "metadata": {},
      "source": [
        "**Objective**: Practice concise and functional programming techniques.\n",
        "**Task**:"
      ]
    },
    {
      "cell_type": "markdown",
      "metadata": {},
      "source": [
        "1. Write a lambda function that:\n",
        "   - Takes a list of numbers and returns only the even numbers.\n",
        "   - Use the `filter()` function to achieve this."
      ]
    },
    {
      "cell_type": "code",
      "execution_count": null,
      "metadata": {
        "trusted": true
      },
      "outputs": [],
      "source": [
        "numbers = [1, 2, 3, 4, 5, 6, 7, 8, 9, 10]\n",
        "even_numbers=list(filter(lamda x: x % 2 == 0 , numbers))\n",
        "print(\"the even numbers in the list are:\",even_numbers)"
      ]
    },
    {
      "cell_type": "markdown",
      "metadata": {},
      "source": [
        "In python we create the lambda function to filter out the even numbers from the list using the filter() function .\n"
      ]
    },
    {
      "cell_type": "markdown",
      "metadata": {},
      "source": [
        "2. Use a list comprehension to generate a list of squares for all odd numbers from 1 to 20."
      ]
    },
    {
      "cell_type": "code",
      "execution_count": null,
      "metadata": {
        "trusted": true
      },
      "outputs": [],
      "source": [
        "square_of_odd_num=(x**2 for x in range(1,21) if x%2!=0)\n",
        "print(\"the sqaures of all the odd numbers between 1 to 20 are:\",square_of_odd_num)"
      ]
    },
    {
      "cell_type": "markdown",
      "metadata": {},
      "source": [
        "**Bonus**:\n",
        "\n",
        "3. What are the advantages and limitations of lambda functions compared to traditional functions in Python?\n",
        "      ans: the advantages and limitations of the lamda functions compare to the traditional functions are:\n",
        "         * the lamda function can be used inside the line also and which does not need any parameters to be passed but the                   traditional functions also able to use inside the line but the parameters should be passed to the traditional                  functions in python \n",
        "         * the lamda function is used for the only single values we cannot able to use the lamda functions for the multiple                  values , but the traditional functions can be used for the multiple values in python.\n"
      ]
    },
    {
      "cell_type": "markdown",
      "metadata": {},
      "source": [
        "### **Assignment 6: Error Handling**"
      ]
    },
    {
      "cell_type": "markdown",
      "metadata": {},
      "source": [
        "**Objective**: Learn how to handle exceptions in Python.\n",
        "**Task**:"
      ]
    },
    {
      "cell_type": "markdown",
      "metadata": {},
      "source": [
        "1. Write a function `read_file_safely` that:\n",
        "   - Attempts to read from a file and catches potential errors (like `FileNotFoundError`).\n",
        "   - If an error occurs, print a user-friendly message."
      ]
    },
    {
      "cell_type": "code",
      "execution_count": null,
      "metadata": {
        "trusted": true
      },
      "outputs": [],
      "source": [
        "def read_file_safely(file_path):\n",
        "    try:\n",
        "        with open(file_path, 'r') as file:\n",
        "              content = file.read()\n",
        "              return content\n",
        "    except FileNotFoundError:\n",
        "        print(f\"Error: The file '{file_path}' was not found.\")\n",
        "    except IOError:\n",
        "        print(f\"Error: An unexpected error occurred while reading the file '{file_path}'.\")\n",
        "file_content = read_file_safely('example.txt')"
      ]
    },
    {
      "cell_type": "markdown",
      "metadata": {},
      "source": [
        "2. **Bonus**:\n",
        "   What are the types of errors you might encounter when working with files? Why is it important to handle exceptions?\n",
        "    ans : the different types of errors might encounter when working with files are:\n",
        "           * ValueError\n",
        "           * KeyError\n",
        "           * TypeError\n",
        "           * IOError\n",
        "           * FileNotFoundError\n",
        "           * ZeroDivisionError\n",
        "         it is very important to handle exceptions because it helps in running the codes without crashing means , where it                  gets the error it gives the user-friendly error message and continue running the next parts of the code . "
      ]
    }
  ],
  "metadata": {
    "kernelspec": {
      "display_name": "Python (Pyodide)",
      "language": "python",
      "name": "python"
    },
    "language_info": {
      "codemirror_mode": {
        "name": "python",
        "version": 3
      },
      "file_extension": ".py",
      "mimetype": "text/x-python",
      "name": "python",
      "nbconvert_exporter": "python",
      "pygments_lexer": "ipython3",
      "version": "3.8"
    }
  },
  "nbformat": 4,
  "nbformat_minor": 4
}
