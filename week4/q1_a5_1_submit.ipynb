{
  "metadata": {
    "kernelspec": {
      "name": "python",
      "display_name": "Python (Pyodide)",
      "language": "python"
    },
    "language_info": {
      "codemirror_mode": {
        "name": "python",
        "version": 3
      },
      "file_extension": ".py",
      "mimetype": "text/x-python",
      "name": "python",
      "nbconvert_exporter": "python",
      "pygments_lexer": "ipython3",
      "version": "3.8"
    }
  },
  "nbformat_minor": 4,
  "nbformat": 4,
  "cells": [
    {
      "cell_type": "markdown",
      "source": "### **Assignment: Getting Started with Pandas**\n\n### **Total Points: 100**",
      "metadata": {}
    },
    {
      "cell_type": "code",
      "source": "import pandas as pd",
      "metadata": {
        "trusted": true
      },
      "outputs": [
        {
          "name": "stderr",
          "text": "<ipython-input-2-7dd3504c366f>:1: DeprecationWarning: \nPyarrow will become a required dependency of pandas in the next major release of pandas (pandas 3.0),\n(to allow more performant data types, such as the Arrow string type, and better interoperability with other libraries)\nbut was not found to be installed on your system.\nIf this would cause problems for you,\nplease provide us feedback at https://github.com/pandas-dev/pandas/issues/54466\n        \n  import pandas as pd\n",
          "output_type": "stream"
        }
      ],
      "execution_count": 2
    },
    {
      "cell_type": "markdown",
      "source": "### **Assignment 1: Creating and Manipulating DataFrames** (20 points)\n**Objective**: Understand the basics of creating and manipulating pandas DataFrames.\n",
      "metadata": {}
    },
    {
      "cell_type": "markdown",
      "source": "1. **Task**:\n   - Create a pandas DataFrame from a dictionary where the keys represent column names and the values are lists of data. For example:\n     ```python\n     data = {\n         'Name': ['John', 'Jane', 'Dave', 'Anna'],\n         'Age': [23, 25, 22, 29],\n         'Score': [88, 92, 85, 90]\n     }\n     ```\n   - Perform the following operations:\n     - Add a new column `Passed` where the value is `True` if the `Score` is greater than 85, otherwise `False`.\n     - Sort the DataFrame by the `Age` column in descending order.",
      "metadata": {}
    },
    {
      "cell_type": "code",
      "source": "data = {\n    'Name': ['John', 'Jane', 'Dave', 'Anna'],\n    'Age': [23, 25, 22, 29],\n    'Score': [88, 92, 85, 90]\n}\n\ndf = pd.DataFrame(data)\nprint(\"Original DataFrame:\\n\", df)\n\n# Step 2: Add a new column 'Passed' based on the 'Score' column\n# If 'Score' > 85, 'Passed' is True; otherwise, it is False\ndf['Passed'] = df['Score'] > 85\nprint(\"\\nDataFrame with 'Passed' Column:\\n\", df)\n\n# Step 3: Sort the DataFrame by the 'Age' column in descending order\ndf = df.sort_values(by='Age', ascending=False)\nprint(\"\\nDataFrame Sorted by Age (Descending):\\n\", df)",
      "metadata": {
        "trusted": true
      },
      "outputs": [
        {
          "name": "stdout",
          "text": "Original DataFrame:\n    Name  Age  Score\n0  John   23     88\n1  Jane   25     92\n2  Dave   22     85\n3  Anna   29     90\n\nDataFrame with 'Passed' Column:\n    Name  Age  Score  Passed\n0  John   23     88    True\n1  Jane   25     92    True\n2  Dave   22     85   False\n3  Anna   29     90    True\n\nDataFrame Sorted by Age (Descending):\n    Name  Age  Score  Passed\n3  Anna   29     90    True\n1  Jane   25     92    True\n0  John   23     88    True\n2  Dave   22     85   False\n",
          "output_type": "stream"
        }
      ],
      "execution_count": 3
    },
    {
      "cell_type": "markdown",
      "source": "2. **Bonus**: Filter the DataFrame to display only the rows where the `Score` is above 90.",
      "metadata": {}
    },
    {
      "cell_type": "code",
      "source": "high_score_df = df[df['Score'] > 90]\nprint(\"\\nRows Where Score is Above 90:\\n\", high_score_df)",
      "metadata": {
        "trusted": true
      },
      "outputs": [
        {
          "name": "stdout",
          "text": "\nRows Where Score is Above 90:\n    Name  Age  Score  Passed\n1  Jane   25     92    True\n",
          "output_type": "stream"
        }
      ],
      "execution_count": 4
    },
    {
      "cell_type": "markdown",
      "source": "### **Assignment 2: Indexing, Selection, and Filtering** (20 points)\n**Objective**: Learn how to access and filter data in DataFrames using different indexing techniques.",
      "metadata": {}
    },
    {
      "cell_type": "markdown",
      "source": "1. **Task**:\n   - Create a DataFrame containing students and their scores across different subjects:\n     ```python\n     data = {\n         'Student': ['John', 'Jane', 'Dave', 'Anna'],\n         'Math': [80, 95, 85, 92],\n         'English': [78, 89, 94, 88],\n         'History': [85, 90, 88, 92]\n     }\n     ```\n   - Select the `Math` and `English` scores for all students.\n   - Filter the DataFrame to show only the students who scored more than 90 in `Math` or `English`.\n",
      "metadata": {}
    },
    {
      "cell_type": "code",
      "source": "data = {\n    'Student': ['John', 'Jane', 'Dave', 'Anna'],\n    'Math': [80, 95, 85, 92],\n    'English': [78, 89, 94, 88],\n    'History': [85, 90, 88, 92]\n}\n\ndf = pd.DataFrame(data)\nprint(\"Original DataFrame:\\n\", df)\n\nmath_english_df = df[['Student', 'Math', 'English']]\nprint(\"\\nDataFrame with Math and English Scores:\\n\", math_english_df)\n\nhigh_scorers_df = math_english_df[(math_english_df['Math'] > 90) | (math_english_df['English'] > 90)]\nprint(\"\\nStudents Who Scored More Than 90 in Math or English:\\n\", high_scorers_df)",
      "metadata": {
        "trusted": true
      },
      "outputs": [],
      "execution_count": null
    },
    {
      "cell_type": "markdown",
      "source": "### **Assignment 3: Handling Missing Data** (15 points)\n**Objective**: Work with missing data in pandas.",
      "metadata": {}
    },
    {
      "cell_type": "markdown",
      "source": "1. **Task**:\n   - Create a DataFrame with missing values:\n     ```python\n     data = {\n         'Name': ['John', 'Jane', 'Dave', 'Anna'],\n         'Age': [23, 25, np.nan, 29],\n         'Score': [88, np.nan, 85, 90]\n     }\n     ```\n   - Perform the following operations:\n     - Fill the missing `Age` with the mean age.\n     - Drop any rows where the `Score` is missing.\n     - Replace any remaining missing values in the DataFrame with `0`.",
      "metadata": {}
    },
    {
      "cell_type": "code",
      "source": "import numpy as np",
      "metadata": {
        "trusted": true
      },
      "outputs": [],
      "execution_count": 6
    },
    {
      "cell_type": "code",
      "source": "data = {\n    'Name': ['John', 'Jane', 'Dave', 'Anna'],\n    'Age': [23, 25, np.nan, 29],\n    'Score': [88, np.nan, 85, 90]\n}\n\ndf = pd.DataFrame(data)\nprint(\"Original DataFrame with Missing Values:\\n\", df)\n\n# Step 2: Fill the missing 'Age' with the mean age\nmean_age = df['Age'].mean()  # Calculate the mean age\ndf['Age'] = df['Age'].fillna(mean_age)  # Fill missing values in 'Age' with the mean\nprint(\"\\nDataFrame after Filling Missing Age with Mean:\\n\", df)\n\n# Step 3: Drop any rows where the 'Score' is missing\ndf = df.dropna(subset=['Score'])  # Drop rows with missing 'Score'\nprint(\"\\nDataFrame after Dropping Rows with Missing Score:\\n\", df)\n\n# Step 4: Replace any remaining missing values in the DataFrame with 0\ndf = df.fillna(0)  # Replace any remaining NaNs with 0\nprint(\"\\nDataFrame after Replacing Remaining Missing Values with 0:\\n\", df)",
      "metadata": {
        "trusted": true
      },
      "outputs": [
        {
          "name": "stdout",
          "text": "Original DataFrame with Missing Values:\n    Name   Age  Score\n0  John  23.0   88.0\n1  Jane  25.0    NaN\n2  Dave   NaN   85.0\n3  Anna  29.0   90.0\n\nDataFrame after Filling Missing Age with Mean:\n    Name        Age  Score\n0  John  23.000000   88.0\n1  Jane  25.000000    NaN\n2  Dave  25.666667   85.0\n3  Anna  29.000000   90.0\n\nDataFrame after Dropping Rows with Missing Score:\n    Name        Age  Score\n0  John  23.000000   88.0\n2  Dave  25.666667   85.0\n3  Anna  29.000000   90.0\n\nDataFrame after Replacing Remaining Missing Values with 0:\n    Name        Age  Score\n0  John  23.000000   88.0\n2  Dave  25.666667   85.0\n3  Anna  29.000000   90.0\n",
          "output_type": "stream"
        }
      ],
      "execution_count": 7
    },
    {
      "cell_type": "markdown",
      "source": "### **Assignment 4: Grouping and Aggregating Data** (20 points)\n**Objective**: Use pandas to group and aggregate data.",
      "metadata": {}
    },
    {
      "cell_type": "markdown",
      "source": "1. **Task**:\n   - Create a DataFrame containing sales data for a store:\n     ```python\n     data = {\n         'Store': ['A', 'B', 'A', 'C', 'B', 'A', 'C'],\n         'Sales': [150, 200, 100, 250, 300, 120, 180],\n         'Week': [1, 1, 2, 2, 3, 3, 3]\n     }\n     ```\n   - Group the data by `Store` and calculate:\n     - The total sales for each store.\n     - The average sales per store.\n   - Find the store with the highest total sales.",
      "metadata": {}
    },
    {
      "cell_type": "code",
      "source": "data = {\n    'Store': ['A', 'B', 'A', 'C', 'B', 'A', 'C'],\n    'Sales': [150, 200, 100, 250, 300, 120, 180],\n    'Week': [1, 1, 2, 2, 3, 3, 3]\n}\n\ndf = pd.DataFrame(data)\nprint(\"Original DataFrame:\\n\", df)\n\ntotal_sales = df.groupby('Store')['Sales'].sum()\nprint(\"\\nTotal Sales for Each Store:\\n\", total_sales)\n\naverage_sales = df.groupby('Store')['Sales'].mean()\nprint(\"\\nAverage Sales per Store:\\n\", average_sales)\n\nhighest_sales_store = total_sales.idxmax() \nhighest_sales_value = total_sales.max()  \nprint(f\"\\nStore with the Highest Total Sales: {highest_sales_store} (Sales: {highest_sales_value})\")",
      "metadata": {
        "trusted": true
      },
      "outputs": [
        {
          "name": "stdout",
          "text": "Original DataFrame:\n   Store  Sales  Week\n0     A    150     1\n1     B    200     1\n2     A    100     2\n3     C    250     2\n4     B    300     3\n5     A    120     3\n6     C    180     3\n\nTotal Sales for Each Store:\n Store\nA    370\nB    500\nC    430\nName: Sales, dtype: int64\n\nAverage Sales per Store:\n Store\nA    123.333333\nB    250.000000\nC    215.000000\nName: Sales, dtype: float64\n\nStore with the Highest Total Sales: B (Sales: 500)\n",
          "output_type": "stream"
        }
      ],
      "execution_count": 8
    },
    {
      "cell_type": "markdown",
      "source": "### **Assignment 5: Merging and Joining DataFrames** (15 points)\n**Objective**: Practice merging and joining multiple DataFrames.",
      "metadata": {}
    },
    {
      "cell_type": "markdown",
      "source": "1. **Task**:\n   - Create two DataFrames, one for student information and another for their scores:\n     ```python\n     students = {\n         'StudentID': [1, 2, 3, 4],\n         'Name': ['John', 'Jane', 'Dave', 'Anna']\n     }\n     scores = {\n         'StudentID': [1, 2, 4],\n         'Math': [80, 95, 92],\n         'English': [78, 89, 88]\n     }\n     ```\n   - Perform the following operations:\n     - Merge the two DataFrames on `StudentID`.\n     - Display all students, including those who do not have scores (use a left join).",
      "metadata": {}
    },
    {
      "cell_type": "code",
      "source": "students = {\n    'StudentID': [1, 2, 3, 4],\n    'Name': ['John', 'Jane', 'Dave', 'Anna']\n}\n\nscores = {\n    'StudentID': [1, 2, 4],\n    'Math': [80, 95, 92],\n    'English': [78, 89, 88]\n}\n\nstudents_df = pd.DataFrame(students)\nscores_df = pd.DataFrame(scores)\n\nprint(\"Student Information DataFrame:\\n\", students_df)\nprint(\"\\nScores DataFrame:\\n\", scores_df)\n\nmerged_df = pd.merge(students_df, scores_df, on='StudentID')\nprint(\"\\nMerged DataFrame:\\n\", merged_df)\n\nleft_merged_df = pd.merge(students_df, scores_df, on='StudentID', how='left')\nprint(\"\\nMerged DataFrame (Left Join):\\n\", left_merged_df)\n",
      "metadata": {
        "trusted": true
      },
      "outputs": [
        {
          "name": "stdout",
          "text": "Student Information DataFrame:\n    StudentID  Name\n0          1  John\n1          2  Jane\n2          3  Dave\n3          4  Anna\n\nScores DataFrame:\n    StudentID  Math  English\n0          1    80       78\n1          2    95       89\n2          4    92       88\n\nMerged DataFrame:\n    StudentID  Name  Math  English\n0          1  John    80       78\n1          2  Jane    95       89\n2          4  Anna    92       88\n\nMerged DataFrame (Left Join):\n    StudentID  Name  Math  English\n0          1  John  80.0     78.0\n1          2  Jane  95.0     89.0\n2          3  Dave   NaN      NaN\n3          4  Anna  92.0     88.0\n",
          "output_type": "stream"
        }
      ],
      "execution_count": 10
    },
    {
      "cell_type": "markdown",
      "source": "### **Assignment 6: Applying Functions to DataFrames** (10 points)\n**Objective**: Use pandas to apply functions to DataFrame elements.",
      "metadata": {}
    },
    {
      "cell_type": "markdown",
      "source": "1. **Task**:\n   - Using the DataFrame below, apply a custom function that converts the `Score` column to letter grades (`A` for 90 and above, `B` for 80-89, etc.):\n     ```python\n     data = {\n         'Name': ['John', 'Jane', 'Dave', 'Anna'],\n         'Score': [88, 92, 85, 90]\n     }\n     ```\n",
      "metadata": {}
    },
    {
      "cell_type": "code",
      "source": "data = {\n    'Name': ['John', 'Jane', 'Dave', 'Anna'],\n    'Score': [88, 92, 85, 90]\n}\n\ndf = pd.DataFrame(data)\nprint(\"Original DataFrame:\\n\", df)\n\ndef convert_to_grade(score):\n    if score >= 90:\n        return 'A'\n    elif score >= 80:\n        return 'B'\n    else:\n        return 'C'\n\ndf['Grade'] = df['Score'].apply(convert_to_grade)\nprint(\"\\nDataFrame with Grades:\\n\", df)",
      "metadata": {
        "trusted": true
      },
      "outputs": [
        {
          "name": "stdout",
          "text": "Original DataFrame:\n    Name  Score\n0  John     88\n1  Jane     92\n2  Dave     85\n3  Anna     90\n\nDataFrame with Grades:\n    Name  Score Grade\n0  John     88     B\n1  Jane     92     A\n2  Dave     85     B\n3  Anna     90     A\n",
          "output_type": "stream"
        }
      ],
      "execution_count": 12
    },
    {
      "cell_type": "markdown",
      "source": "### **Assignment 7: Reshaping and Pivoting Data** (10 points)\n**Objective**: Learn to reshape and pivot data in pandas.",
      "metadata": {}
    },
    {
      "cell_type": "markdown",
      "source": "1. **Task**:\n   - Create a DataFrame containing temperature data for different cities across various dates:\n     ```python\n     data = {\n         'City': ['New York', 'Los Angeles', 'Chicago', 'New York', 'Los Angeles', 'Chicago'],\n         'Date': ['2023-01-01', '2023-01-01', '2023-01-01', '2023-01-02', '2023-01-02', '2023-01-02'],\n         'Temperature': [30, 75, 25, 32, 77, 27]\n     }\n     ```\n   - Pivot the data so that the rows represent the dates and the columns represent the cities, with the `Temperature` values in the cells.",
      "metadata": {}
    },
    {
      "cell_type": "code",
      "source": "data = {\n    'City': ['New York', 'Los Angeles', 'Chicago', 'New York', 'Los Angeles', 'Chicago'],\n    'Date': ['2023-01-01', '2023-01-01', '2023-01-01', '2023-01-02', '2023-01-02', '2023-01-02'],\n    'Temperature': [30, 75, 25, 32, 77, 27]\n}\n\ndf = pd.DataFrame(data)\nprint(\"Original DataFrame:\\n\", df)\n\npivoted_df = df.pivot(index='Date', columns='City', values='Temperature')\nprint(\"\\nPivoted DataFrame:\\n\", pivoted_df)",
      "metadata": {
        "trusted": true
      },
      "outputs": [
        {
          "name": "stdout",
          "text": "Original DataFrame:\n           City        Date  Temperature\n0     New York  2023-01-01           30\n1  Los Angeles  2023-01-01           75\n2      Chicago  2023-01-01           25\n3     New York  2023-01-02           32\n4  Los Angeles  2023-01-02           77\n5      Chicago  2023-01-02           27\n\nPivoted DataFrame:\n City        Chicago  Los Angeles  New York\nDate                                      \n2023-01-01       25           75        30\n2023-01-02       27           77        32\n",
          "output_type": "stream"
        }
      ],
      "execution_count": 13
    },
    {
      "cell_type": "markdown",
      "source": "### **Assignment 8: Time Series Data** (10 points)\n**Objective**: Work with time series data in pandas.",
      "metadata": {}
    },
    {
      "cell_type": "markdown",
      "source": "1. **Task**:\n   - Create a date range of 10 consecutive days starting from `2023-01-01`.\n   - Create a DataFrame where the index is the date range and the column contains random daily stock prices.\n   - Calculate the rolling 3-day average of the stock prices.",
      "metadata": {}
    },
    {
      "cell_type": "code",
      "source": "import numpy as np\ndate_range = pd.date_range(start='2023-01-01', periods=10)\nprint(\"Date Range:\\n\", date_range)\n\nnp.random.seed(0)  \nstock_prices = np.random.randint(100, 200, size=10)  \ndf = pd.DataFrame(stock_prices, index=date_range, columns=['Stock Price'])\nprint(\"\\nDataFrame with Random Stock Prices:\\n\", df)\n\ndf['3-Day Rolling Average'] = df['Stock Price'].rolling(window=3).mean()\nprint(\"\\nDataFrame with 3-Day Rolling Average:\\n\", df)",
      "metadata": {
        "trusted": true
      },
      "outputs": [
        {
          "name": "stdout",
          "text": "Date Range:\n DatetimeIndex(['2023-01-01', '2023-01-02', '2023-01-03', '2023-01-04',\n               '2023-01-05', '2023-01-06', '2023-01-07', '2023-01-08',\n               '2023-01-09', '2023-01-10'],\n              dtype='datetime64[ns]', freq='D')\n\nDataFrame with Random Stock Prices:\n             Stock Price\n2023-01-01          144\n2023-01-02          147\n2023-01-03          164\n2023-01-04          167\n2023-01-05          167\n2023-01-06          109\n2023-01-07          183\n2023-01-08          121\n2023-01-09          136\n2023-01-10          187\n\nDataFrame with 3-Day Rolling Average:\n             Stock Price  3-Day Rolling Average\n2023-01-01          144                    NaN\n2023-01-02          147                    NaN\n2023-01-03          164             151.666667\n2023-01-04          167             159.333333\n2023-01-05          167             166.000000\n2023-01-06          109             147.666667\n2023-01-07          183             153.000000\n2023-01-08          121             137.666667\n2023-01-09          136             146.666667\n2023-01-10          187             148.000000\n",
          "output_type": "stream"
        }
      ],
      "execution_count": 14
    },
    {
      "cell_type": "code",
      "source": "",
      "metadata": {
        "trusted": true
      },
      "outputs": [],
      "execution_count": null
    }
  ]
}